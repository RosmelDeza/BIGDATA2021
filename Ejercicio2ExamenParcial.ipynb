{
 "cells": [
  {
   "cell_type": "markdown",
   "id": "03cc15f8",
   "metadata": {},
   "source": [
    "### Autor: Rosmel Uriel DEZA Condori\n",
    "### Codigo: 171058"
   ]
  },
  {
   "cell_type": "markdown",
   "id": "c2774c2a",
   "metadata": {},
   "source": [
    "Ejercicio 02: Cree una función mediaDivN d n que devuelva la media de los n primeros números\n",
    "que devuelven True a la función del ejercicio anterior. Piense en cómo reducir el costo\n",
    "computacional."
   ]
  },
  {
   "cell_type": "code",
   "execution_count": 1,
   "id": "55c0b079",
   "metadata": {},
   "outputs": [],
   "source": [
    "-- Funcion listaMCM, calcula el MCM de n numeros, es decir de una lista\n",
    "listaMCM :: [Int] -> Int\n",
    "listaMCM [] = 0\n",
    "listaMCM [pr] = pr \n",
    "-- Funcion lcm calcula el minimo comun multiplo de dos numeros\n",
    "-- (lcm pr sg) es el mínimo común múltiplo de pr e sg\n",
    "listaMCM [pr,sg] = lcm pr sg\n",
    "listaMCM (pr:ult) = lcm pr (listaMCM ult)"
   ]
  },
  {
   "cell_type": "code",
   "execution_count": 2,
   "id": "75381b07",
   "metadata": {},
   "outputs": [
    {
     "data": {
      "text/plain": [
       "84"
      ]
     },
     "metadata": {},
     "output_type": "display_data"
    }
   ],
   "source": [
    "-- Utilizando la funcion listaMCM, calcularemos MCM de 3 numeros\n",
    "listaMCM [3,12,21]"
   ]
  },
  {
   "cell_type": "code",
   "execution_count": 3,
   "id": "822b8777",
   "metadata": {},
   "outputs": [],
   "source": [
    "-- Hallamos la media de los n primeros números div(1 a d)\n",
    "mediaDivN :: Int -> Int -> Double\n",
    "mediaDivN d n = media \n",
    "    where\n",
    "        lcmlist=listaMCM[1..d]\n",
    "        media = fromIntegral(lcmlist * (n+1)) / 2"
   ]
  },
  {
   "cell_type": "code",
   "execution_count": 5,
   "id": "9ef122ec",
   "metadata": {},
   "outputs": [
    {
     "data": {
      "text/plain": [
       "5.0"
      ]
     },
     "metadata": {},
     "output_type": "display_data"
    }
   ],
   "source": [
    "-- Calculamos para d=2 y n=4\n",
    "mediaDivN 2 4"
   ]
  }
 ],
 "metadata": {
  "kernelspec": {
   "display_name": "Haskell",
   "language": "haskell",
   "name": "haskell"
  },
  "language_info": {
   "codemirror_mode": "ihaskell",
   "file_extension": ".hs",
   "mimetype": "text/x-haskell",
   "name": "haskell",
   "pygments_lexer": "Haskell",
   "version": "8.10.7"
  }
 },
 "nbformat": 4,
 "nbformat_minor": 5
}
