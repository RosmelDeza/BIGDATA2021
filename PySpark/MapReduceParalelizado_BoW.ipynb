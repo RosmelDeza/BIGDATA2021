{
 "cells": [
  {
   "cell_type": "markdown",
   "id": "f97722e2",
   "metadata": {
    "id": "f97722e2"
   },
   "source": [
    "# CURSO: MINERIA DE DATOS\n",
    "### ESTUDIANTE: ROSMEL URIEL DEZA CONDORI\n",
    "### CODIGO: 171058\n",
    "### TAREA: BOW Paralelizado, TF IDF TF-IDF"
   ]
  },
  {
   "cell_type": "code",
   "execution_count": 9,
   "id": "McQB-xzMgQQE",
   "metadata": {
    "colab": {
     "base_uri": "https://localhost:8080/"
    },
    "id": "McQB-xzMgQQE",
    "outputId": "9407d4c0-7699-494a-ede6-abeee63010fe"
   },
   "outputs": [
    {
     "name": "stdout",
     "output_type": "stream",
     "text": [
      "Collecting pyspark==3.0.1\n",
      "  Downloading pyspark-3.0.1.tar.gz (204.2 MB)\n",
      "\u001b[K     |████████████████████████████████| 204.2 MB 35 kB/s \n",
      "\u001b[?25hCollecting py4j==0.10.9\n",
      "  Downloading py4j-0.10.9-py2.py3-none-any.whl (198 kB)\n",
      "\u001b[K     |████████████████████████████████| 198 kB 58.1 MB/s \n",
      "\u001b[?25hBuilding wheels for collected packages: pyspark\n",
      "  Building wheel for pyspark (setup.py) ... \u001b[?25l\u001b[?25hdone\n",
      "  Created wheel for pyspark: filename=pyspark-3.0.1-py2.py3-none-any.whl size=204612246 sha256=054634d774900bad26a01bc1cef097f258b0140b636cd928bc639537087efdef\n",
      "  Stored in directory: /root/.cache/pip/wheels/5e/34/fa/b37b5cef503fc5148b478b2495043ba61b079120b7ff379f9b\n",
      "Successfully built pyspark\n",
      "Installing collected packages: py4j, pyspark\n",
      "Successfully installed py4j-0.10.9 pyspark-3.0.1\n"
     ]
    }
   ],
   "source": [
    "!pip install pyspark==3.0.1 py4j==0.10.9"
   ]
  },
  {
   "cell_type": "markdown",
   "id": "047780d1",
   "metadata": {
    "id": "047780d1"
   },
   "source": [
    "## IMPORTAR LIBRERIAS"
   ]
  },
  {
   "cell_type": "code",
   "execution_count": 10,
   "id": "49787a0b",
   "metadata": {
    "id": "49787a0b"
   },
   "outputs": [],
   "source": [
    "from pyspark import SparkContext\n",
    "sc = SparkContext.getOrCreate()"
   ]
  },
  {
   "cell_type": "code",
   "execution_count": 16,
   "id": "riQcj4742dhk",
   "metadata": {
    "id": "riQcj4742dhk"
   },
   "outputs": [],
   "source": [
    "import math\n",
    "\n",
    "from pyspark.sql.functions import *\n",
    "from pyspark.sql import SparkSession\n",
    "from pyspark import SparkContext, SparkConf\n",
    "sc =SparkContext.getOrCreate()\n",
    "import os\n",
    "import re\n",
    "import nltk.corpus\n",
    "from nltk import corpus"
   ]
  },
  {
   "cell_type": "markdown",
   "id": "f2d40d87",
   "metadata": {
    "id": "f2d40d87"
   },
   "source": [
    "# BAG OF WORDS (BOW)\n"
   ]
  },
  {
   "cell_type": "code",
   "execution_count": 22,
   "id": "3CgJDLD23g19",
   "metadata": {
    "colab": {
     "base_uri": "https://localhost:8080/"
    },
    "id": "3CgJDLD23g19",
    "outputId": "552c3fa3-c9a1-427e-d786-f2dc9fb60b2f"
   },
   "outputs": [
    {
     "data": {
      "text/plain": [
       "[(1,\n",
       "  'El fútbol es sagrado para el y lo vive con una obsesión permanente la de ser uno de los futbolistas mas grandes de todos los tiempos'),\n",
       " (2,\n",
       "  'Balon de oro mejor jugador del mundo ese año según la FIFA maximo goleador en la liga inglesa ganador de la champions eague'),\n",
       " (3,\n",
       "  'El año va llegando a su fin y cada vez falta menos para que kylian mbappe sea libre de negociar con el equipo que quiera su nuevo contrato'),\n",
       " (4,\n",
       "  'El internacional frances ha recibido las felicitaciones de los que pueden ser sus compañeros la proxima temporada')]"
      ]
     },
     "execution_count": 22,
     "metadata": {},
     "output_type": "execute_result"
    }
   ],
   "source": [
    "#Creamos datos para nuestro o bag of words\n",
    "data=[(1,'El fútbol es sagrado para el y lo vive con una obsesión permanente la de ser uno de los futbolistas mas grandes de todos los tiempos'),\n",
    "      (2,\"Balon de oro mejor jugador del mundo ese año según la FIFA maximo goleador en la liga inglesa ganador de la champions eague\"),\n",
    "      (3,\"El año va llegando a su fin y cada vez falta menos para que kylian mbappe sea libre de negociar con el equipo que quiera su nuevo contrato\"),\n",
    "      (4,\"El internacional frances ha recibido las felicitaciones de los que pueden ser sus compañeros la proxima temporada\")]\n",
    "data"
   ]
  },
  {
   "cell_type": "code",
   "execution_count": 12,
   "id": "Rc54OOQqg_Tn",
   "metadata": {
    "colab": {
     "base_uri": "https://localhost:8080/"
    },
    "id": "Rc54OOQqg_Tn",
    "outputId": "2450716e-e1c7-4405-becf-fa771f679b2e"
   },
   "outputs": [
    {
     "data": {
      "text/plain": [
       "[((1, 'El'), 1),\n",
       " ((1, 'es'), 1),\n",
       " ((1, 'vive'), 1),\n",
       " ((1, 'una'), 1),\n",
       " ((1, 'obsesión'), 1),\n",
       " ((1, 'la'), 1),\n",
       " ((1, 'de'), 3),\n",
       " ((1, 'ser'), 1),\n",
       " ((1, 'uno'), 1),\n",
       " ((1, 'grandes'), 1),\n",
       " ((1, 'tiempos'), 1),\n",
       " ((2, 'Balon'), 1),\n",
       " ((2, 'mejor'), 1),\n",
       " ((2, 'del'), 1),\n",
       " ((2, 'mundo'), 1),\n",
       " ((2, 'en'), 1),\n",
       " ((2, 'liga'), 1),\n",
       " ((2, 'inglesa'), 1),\n",
       " ((2, 'ganador'), 1),\n",
       " ((3, 'El'), 1),\n",
       " ((3, 'año'), 1),\n",
       " ((3, 'llegando'), 1),\n",
       " ((3, 'a'), 1),\n",
       " ((3, 'menos'), 1),\n",
       " ((3, 'kylian'), 1),\n",
       " ((3, 'libre'), 1),\n",
       " ((3, 'de'), 1),\n",
       " ((3, 'equipo'), 1),\n",
       " ((3, 'nuevo'), 1),\n",
       " ((4, 'recibido'), 1),\n",
       " ((4, 'los'), 1),\n",
       " ((4, 'que'), 1),\n",
       " ((4, 'sus'), 1),\n",
       " ((4, 'proxima'), 1),\n",
       " ((4, 'temporada'), 1),\n",
       " ((1, 'fútbol'), 1),\n",
       " ((1, 'sagrado'), 1),\n",
       " ((1, 'para'), 1),\n",
       " ((1, 'el'), 1),\n",
       " ((1, 'y'), 1),\n",
       " ((1, 'lo'), 1),\n",
       " ((1, 'con'), 1),\n",
       " ((1, 'permanente'), 1),\n",
       " ((1, 'los'), 2),\n",
       " ((1, 'futbolistas'), 1),\n",
       " ((1, 'mas'), 1),\n",
       " ((1, 'todos'), 1),\n",
       " ((2, 'de'), 2),\n",
       " ((2, 'oro'), 1),\n",
       " ((2, 'jugador'), 1),\n",
       " ((2, 'ese'), 1),\n",
       " ((2, 'año'), 1),\n",
       " ((2, 'según'), 1),\n",
       " ((2, 'la'), 3),\n",
       " ((2, 'FIFA'), 1),\n",
       " ((2, 'maximo'), 1),\n",
       " ((2, 'goleador'), 1),\n",
       " ((2, 'champions'), 1),\n",
       " ((2, 'eague'), 1),\n",
       " ((3, 'va'), 1),\n",
       " ((3, 'su'), 2),\n",
       " ((3, 'fin'), 1),\n",
       " ((3, 'y'), 1),\n",
       " ((3, 'cada'), 1),\n",
       " ((3, 'vez'), 1),\n",
       " ((3, 'falta'), 1),\n",
       " ((3, 'para'), 1),\n",
       " ((3, 'que'), 2),\n",
       " ((3, 'mbappe'), 1),\n",
       " ((3, 'sea'), 1),\n",
       " ((3, 'negociar'), 1),\n",
       " ((3, 'con'), 1),\n",
       " ((3, 'el'), 1),\n",
       " ((3, 'quiera'), 1),\n",
       " ((3, 'contrato'), 1),\n",
       " ((4, 'El'), 1),\n",
       " ((4, 'internacional'), 1),\n",
       " ((4, 'frances'), 1),\n",
       " ((4, 'ha'), 1),\n",
       " ((4, 'las'), 1),\n",
       " ((4, 'felicitaciones'), 1),\n",
       " ((4, 'de'), 1),\n",
       " ((4, 'pueden'), 1),\n",
       " ((4, 'ser'), 1),\n",
       " ((4, 'compañeros'), 1),\n",
       " ((4, 'la'), 1)]"
      ]
     },
     "execution_count": 12,
     "metadata": {},
     "output_type": "execute_result"
    }
   ],
   "source": [
    "# Paraleliazmos nuestro data\n",
    "lines=sc.parallelize(data)\n",
    "# Recupera todos los elementos del lines\n",
    "lines.collect()\n",
    "map1=lines.flatMap(lambda x: [((x[0],i),1) for i in x[1].split()])\n",
    "# Recupera todos los elementos del map1\n",
    "map1.collect()\n",
    "#Map Reduce\n",
    "reduce=map1.reduceByKey(lambda x,y:x+y)\n",
    "#BOG de las 4 oraciones\n",
    "reduce.collect()"
   ]
  },
  {
   "cell_type": "markdown",
   "id": "WcpJeNZnoY03",
   "metadata": {
    "id": "WcpJeNZnoY03"
   },
   "source": [
    "# TF"
   ]
  },
  {
   "cell_type": "markdown",
   "id": "ltgLLK-X4qxr",
   "metadata": {
    "id": "ltgLLK-X4qxr"
   },
   "source": [
    "La frecuencia del término es el número de veces que aparece una palabra en particular en un documento."
   ]
  },
  {
   "cell_type": "code",
   "execution_count": 13,
   "id": "NON_WvMMoYmo",
   "metadata": {
    "colab": {
     "base_uri": "https://localhost:8080/"
    },
    "id": "NON_WvMMoYmo",
    "outputId": "a00eaf67-4c96-4b9c-9b4d-f704fd2713dc"
   },
   "outputs": [
    {
     "data": {
      "text/plain": [
       "[('Balon', 1),\n",
       " ('mejor', 1),\n",
       " ('del', 1),\n",
       " ('mundo', 1),\n",
       " ('en', 1),\n",
       " ('liga', 1),\n",
       " ('inglesa', 1),\n",
       " ('ganador', 1),\n",
       " ('recibido', 1),\n",
       " ('los', 2),\n",
       " ('que', 2),\n",
       " ('sus', 1),\n",
       " ('proxima', 1),\n",
       " ('temporada', 1),\n",
       " ('fútbol', 1),\n",
       " ('sagrado', 1),\n",
       " ('para', 2),\n",
       " ('el', 2),\n",
       " ('y', 2),\n",
       " ('lo', 1),\n",
       " ('con', 2),\n",
       " ('permanente', 1),\n",
       " ('futbolistas', 1),\n",
       " ('mas', 1),\n",
       " ('todos', 1),\n",
       " ('va', 1),\n",
       " ('su', 1),\n",
       " ('fin', 1),\n",
       " ('cada', 1),\n",
       " ('vez', 1),\n",
       " ('falta', 1),\n",
       " ('mbappe', 1),\n",
       " ('sea', 1),\n",
       " ('negociar', 1),\n",
       " ('quiera', 1),\n",
       " ('contrato', 1),\n",
       " ('El', 3),\n",
       " ('es', 1),\n",
       " ('vive', 1),\n",
       " ('una', 1),\n",
       " ('obsesión', 1),\n",
       " ('la', 3),\n",
       " ('de', 4),\n",
       " ('ser', 2),\n",
       " ('uno', 1),\n",
       " ('grandes', 1),\n",
       " ('tiempos', 1),\n",
       " ('año', 2),\n",
       " ('llegando', 1),\n",
       " ('a', 1),\n",
       " ('menos', 1),\n",
       " ('kylian', 1),\n",
       " ('libre', 1),\n",
       " ('equipo', 1),\n",
       " ('nuevo', 1),\n",
       " ('oro', 1),\n",
       " ('jugador', 1),\n",
       " ('ese', 1),\n",
       " ('según', 1),\n",
       " ('FIFA', 1),\n",
       " ('maximo', 1),\n",
       " ('goleador', 1),\n",
       " ('champions', 1),\n",
       " ('eague', 1),\n",
       " ('internacional', 1),\n",
       " ('frances', 1),\n",
       " ('ha', 1),\n",
       " ('las', 1),\n",
       " ('felicitaciones', 1),\n",
       " ('pueden', 1),\n",
       " ('compañeros', 1)]"
      ]
     },
     "execution_count": 13,
     "metadata": {},
     "output_type": "execute_result"
    }
   ],
   "source": [
    "#=================================================================\n",
    "# Algoritmo termino de frecuencia (TF)\n",
    "tf=reduce.map(lambda x: (x[0][1],(x[0][0],x[1])))\n",
    "tf.collect()\n",
    "\n",
    "map3=reduce.map(lambda x: (x[0][1],(x[0][0],x[1],1)))\n",
    "map3.collect()\n",
    "\n",
    "map4=map3.map(lambda x:(x[0],x[1][2]))\n",
    "map4.collect()\n",
    "\n",
    "reduce2=map4.reduceByKey(lambda x,y:x+y)\n",
    "reduce2.collect()"
   ]
  },
  {
   "cell_type": "markdown",
   "id": "JEKHQOIw25Sq",
   "metadata": {
    "id": "JEKHQOIw25Sq"
   },
   "source": [
    "# IDF\n",
    "\n",
    "La puntuación IDF nos dice qué tan importante es una palabra en particular en todo el corpus."
   ]
  },
  {
   "cell_type": "code",
   "execution_count": 17,
   "id": "2Ei4Imbo24_6",
   "metadata": {
    "colab": {
     "base_uri": "https://localhost:8080/"
    },
    "id": "2Ei4Imbo24_6",
    "outputId": "6be0b63f-1d51-41bd-996a-e6f370cf3f5e"
   },
   "outputs": [
    {
     "data": {
      "text/plain": [
       "[('Balon', ((2, 1), 0.6020599913279624)),\n",
       " ('mejor', ((2, 1), 0.6020599913279624)),\n",
       " ('liga', ((2, 1), 0.6020599913279624)),\n",
       " ('ganador', ((2, 1), 0.6020599913279624)),\n",
       " ('recibido', ((4, 1), 0.6020599913279624)),\n",
       " ('los', ((4, 1), 0.3010299956639812)),\n",
       " ('los', ((1, 2), 0.3010299956639812)),\n",
       " ('sus', ((4, 1), 0.6020599913279624)),\n",
       " ('temporada', ((4, 1), 0.6020599913279624)),\n",
       " ('sagrado', ((1, 1), 0.6020599913279624)),\n",
       " ('el', ((1, 1), 0.3010299956639812)),\n",
       " ('el', ((3, 1), 0.3010299956639812)),\n",
       " ('y', ((1, 1), 0.3010299956639812)),\n",
       " ('y', ((3, 1), 0.3010299956639812)),\n",
       " ('lo', ((1, 1), 0.6020599913279624)),\n",
       " ('con', ((1, 1), 0.3010299956639812)),\n",
       " ('con', ((3, 1), 0.3010299956639812)),\n",
       " ('permanente', ((1, 1), 0.6020599913279624)),\n",
       " ('mas', ((1, 1), 0.6020599913279624)),\n",
       " ('todos', ((1, 1), 0.6020599913279624)),\n",
       " ('fin', ((3, 1), 0.6020599913279624)),\n",
       " ('falta', ((3, 1), 0.6020599913279624)),\n",
       " ('mbappe', ((3, 1), 0.6020599913279624)),\n",
       " ('sea', ((3, 1), 0.6020599913279624)),\n",
       " ('El', ((1, 1), 0.12493873660829992)),\n",
       " ('El', ((3, 1), 0.12493873660829992)),\n",
       " ('El', ((4, 1), 0.12493873660829992)),\n",
       " ('es', ((1, 1), 0.6020599913279624)),\n",
       " ('vive', ((1, 1), 0.6020599913279624)),\n",
       " ('una', ((1, 1), 0.6020599913279624)),\n",
       " ('la', ((1, 1), 0.12493873660829992)),\n",
       " ('la', ((2, 3), 0.12493873660829992)),\n",
       " ('la', ((4, 1), 0.12493873660829992)),\n",
       " ('ser', ((1, 1), 0.3010299956639812)),\n",
       " ('ser', ((4, 1), 0.3010299956639812)),\n",
       " ('tiempos', ((1, 1), 0.6020599913279624)),\n",
       " ('año', ((3, 1), 0.3010299956639812)),\n",
       " ('año', ((2, 1), 0.3010299956639812)),\n",
       " ('llegando', ((3, 1), 0.6020599913279624)),\n",
       " ('a', ((3, 1), 0.6020599913279624)),\n",
       " ('menos', ((3, 1), 0.6020599913279624)),\n",
       " ('libre', ((3, 1), 0.6020599913279624)),\n",
       " ('oro', ((2, 1), 0.6020599913279624)),\n",
       " ('jugador', ((2, 1), 0.6020599913279624)),\n",
       " ('internacional', ((4, 1), 0.6020599913279624)),\n",
       " ('frances', ((4, 1), 0.6020599913279624)),\n",
       " ('las', ((4, 1), 0.6020599913279624)),\n",
       " ('compañeros', ((4, 1), 0.6020599913279624)),\n",
       " ('del', ((2, 1), 0.6020599913279624)),\n",
       " ('mundo', ((2, 1), 0.6020599913279624)),\n",
       " ('en', ((2, 1), 0.6020599913279624)),\n",
       " ('inglesa', ((2, 1), 0.6020599913279624)),\n",
       " ('que', ((4, 1), 0.3010299956639812)),\n",
       " ('que', ((3, 2), 0.3010299956639812)),\n",
       " ('proxima', ((4, 1), 0.6020599913279624)),\n",
       " ('fútbol', ((1, 1), 0.6020599913279624)),\n",
       " ('para', ((1, 1), 0.3010299956639812)),\n",
       " ('para', ((3, 1), 0.3010299956639812)),\n",
       " ('futbolistas', ((1, 1), 0.6020599913279624)),\n",
       " ('va', ((3, 1), 0.6020599913279624)),\n",
       " ('su', ((3, 2), 0.6020599913279624)),\n",
       " ('cada', ((3, 1), 0.6020599913279624)),\n",
       " ('vez', ((3, 1), 0.6020599913279624)),\n",
       " ('negociar', ((3, 1), 0.6020599913279624)),\n",
       " ('quiera', ((3, 1), 0.6020599913279624)),\n",
       " ('contrato', ((3, 1), 0.6020599913279624)),\n",
       " ('obsesión', ((1, 1), 0.6020599913279624)),\n",
       " ('de', ((1, 3), 0.0)),\n",
       " ('de', ((3, 1), 0.0)),\n",
       " ('de', ((2, 2), 0.0)),\n",
       " ('de', ((4, 1), 0.0)),\n",
       " ('uno', ((1, 1), 0.6020599913279624)),\n",
       " ('grandes', ((1, 1), 0.6020599913279624)),\n",
       " ('kylian', ((3, 1), 0.6020599913279624)),\n",
       " ('equipo', ((3, 1), 0.6020599913279624)),\n",
       " ('nuevo', ((3, 1), 0.6020599913279624)),\n",
       " ('ese', ((2, 1), 0.6020599913279624)),\n",
       " ('según', ((2, 1), 0.6020599913279624)),\n",
       " ('FIFA', ((2, 1), 0.6020599913279624)),\n",
       " ('maximo', ((2, 1), 0.6020599913279624)),\n",
       " ('goleador', ((2, 1), 0.6020599913279624)),\n",
       " ('champions', ((2, 1), 0.6020599913279624)),\n",
       " ('eague', ((2, 1), 0.6020599913279624)),\n",
       " ('ha', ((4, 1), 0.6020599913279624)),\n",
       " ('felicitaciones', ((4, 1), 0.6020599913279624)),\n",
       " ('pueden', ((4, 1), 0.6020599913279624))]"
      ]
     },
     "execution_count": 17,
     "metadata": {},
     "output_type": "execute_result"
    }
   ],
   "source": [
    "#=================================================================\n",
    "# Algoritmo termino de frecuencia (IDF)\n",
    "idf=reduce2.map(lambda x: (x[0],math.log10(len(data)/x[1])))\n",
    "idf.collect()\n",
    "\n",
    "rdd=tf.join(idf)\n",
    "rdd.collect()"
   ]
  },
  {
   "cell_type": "markdown",
   "id": "jVZZzMr23t6k",
   "metadata": {
    "id": "jVZZzMr23t6k"
   },
   "source": [
    "# TF-IDF\n",
    "\n",
    "TF-IDF es una forma de extraer características para cualquier dato textual."
   ]
  },
  {
   "cell_type": "code",
   "execution_count": 18,
   "id": "Da3H3G1B3Q69",
   "metadata": {
    "colab": {
     "base_uri": "https://localhost:8080/"
    },
    "id": "Da3H3G1B3Q69",
    "outputId": "3516ff40-e99d-4538-c402-9bca7d132d8c"
   },
   "outputs": [
    {
     "name": "stdout",
     "output_type": "stream",
     "text": [
      "+----------------+-----------+---+-------------------+-------------------+\n",
      "|ID del Documento|      Token| TF|                IDF|             TF-IDF|\n",
      "+----------------+-----------+---+-------------------+-------------------+\n",
      "|               1|        los|  2| 0.3010299956639812| 0.6020599913279624|\n",
      "|               1|    sagrado|  1| 0.6020599913279624| 0.6020599913279624|\n",
      "|               1|         el|  1| 0.3010299956639812| 0.3010299956639812|\n",
      "|               1|          y|  1| 0.3010299956639812| 0.3010299956639812|\n",
      "|               1|         lo|  1| 0.6020599913279624| 0.6020599913279624|\n",
      "|               1|        con|  1| 0.3010299956639812| 0.3010299956639812|\n",
      "|               1| permanente|  1| 0.6020599913279624| 0.6020599913279624|\n",
      "|               1|        mas|  1| 0.6020599913279624| 0.6020599913279624|\n",
      "|               1|      todos|  1| 0.6020599913279624| 0.6020599913279624|\n",
      "|               1|         El|  1|0.12493873660829992|0.12493873660829992|\n",
      "|               1|         es|  1| 0.6020599913279624| 0.6020599913279624|\n",
      "|               1|       vive|  1| 0.6020599913279624| 0.6020599913279624|\n",
      "|               1|        una|  1| 0.6020599913279624| 0.6020599913279624|\n",
      "|               1|         la|  1|0.12493873660829992|0.12493873660829992|\n",
      "|               1|        ser|  1| 0.3010299956639812| 0.3010299956639812|\n",
      "|               1|    tiempos|  1| 0.6020599913279624| 0.6020599913279624|\n",
      "|               1|     fútbol|  1| 0.6020599913279624| 0.6020599913279624|\n",
      "|               1|       para|  1| 0.3010299956639812| 0.3010299956639812|\n",
      "|               1|futbolistas|  1| 0.6020599913279624| 0.6020599913279624|\n",
      "|               1|   obsesión|  1| 0.6020599913279624| 0.6020599913279624|\n",
      "+----------------+-----------+---+-------------------+-------------------+\n",
      "only showing top 20 rows\n",
      "\n"
     ]
    }
   ],
   "source": [
    "#=================================================================\n",
    "# Algoritmo termino de frecuencia (TF-IDF)\n",
    "rdd=rdd.map(lambda x: (x[1][0][0],(x[0],x[1][0][1],x[1][1],x[1][0][1]*x[1][1]))).sortByKey()\n",
    "rdd.collect()\n",
    "\n",
    "spark = SparkSession(sc)\n",
    "rdd=rdd.map(lambda x: (x[0],x[1][0],x[1][1],x[1][2],x[1][3]))\n",
    "hasattr(rdd, \"toDF\")\n",
    "rdd.toDF([\"ID del Documento\",\"Token\",\"TF\",\"IDF\",\"TF-IDF\"]).show()"
   ]
  }
 ],
 "metadata": {
  "colab": {
   "name": "MapReduceParalelizado - BoW.ipynb",
   "provenance": []
  },
  "kernelspec": {
   "display_name": "Python 3 (ipykernel)",
   "language": "python",
   "name": "python3"
  },
  "language_info": {
   "codemirror_mode": {
    "name": "ipython",
    "version": 3
   },
   "file_extension": ".py",
   "mimetype": "text/x-python",
   "name": "python",
   "nbconvert_exporter": "python",
   "pygments_lexer": "ipython3",
   "version": "3.9.4"
  }
 },
 "nbformat": 4,
 "nbformat_minor": 5
}
