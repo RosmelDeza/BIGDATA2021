{
  "nbformat": 4,
  "nbformat_minor": 0,
  "metadata": {
    "colab": {
      "name": "Activida03.ipynb",
      "provenance": [],
      "collapsed_sections": [
        "BstPZzVh2W4b",
        "qb0r4_WnVvCp",
        "CKoA9YkT8bzo",
        "J-_2MwZ57idl"
      ],
      "toc_visible": true
    },
    "kernelspec": {
      "display_name": "Python 3",
      "name": "python3"
    },
    "language_info": {
      "name": "python"
    }
  },
  "cells": [
    {
      "cell_type": "markdown",
      "metadata": {
        "id": "HrFQeZaJ2Lvu"
      },
      "source": [
        "# **CURSO: MINERIA DE DATOS**\n",
        "# **TAREA: Actividad 03 Reglas de Asociación**\n",
        "---\n",
        "**ESTUDIANTE:** ROSMEL URIEL DEZA CONDORI  \n",
        "**CÓDIGO:** 171058 \n",
        "\n",
        "---\n",
        "\n"
      ]
    },
    {
      "cell_type": "markdown",
      "metadata": {
        "id": "STwp7b9YW03N"
      },
      "source": [
        "##**1. BASE DE DATOS**\n",
        "\n",
        "La base de datos a utilizar corresponde a múltiples playlists de la plataforma spotify\n",
        "creadas por usuarios de esta. Este es una muestra del dataset publicado para el `Rec- Sys Challenge 2018`.\n",
        "\n",
        "En específico, se entragará un solo `spotify.npy`:"
      ]
    },
    {
      "cell_type": "markdown",
      "metadata": {
        "id": "BstPZzVh2W4b"
      },
      "source": [
        "##**2. IMPORTAR LAS LIBRERIAS**\n",
        "*    `pandas`: Está librería se enfoca en el analisis de la estructura de datos, en este caso para contador de canciones.\n",
        "*   `numpy`: La liberia numpy se utiliza para cargar spotify.npy.\n",
        "*   `itertools`: Union de dos vectores que transforma un objeto\n",
        "*   `networkx`: Generación de gráficos y facilidades para leer y escribir gráficos"
      ]
    },
    {
      "cell_type": "code",
      "metadata": {
        "id": "InPB3smZ3zjQ"
      },
      "source": [
        "import numpy as np\n",
        "import pandas as pd\n",
        "import itertools as iter\n",
        "from itertools import chain\n",
        "from itertools import groupby, combinations"
      ],
      "execution_count": 1,
      "outputs": []
    },
    {
      "cell_type": "markdown",
      "metadata": {
        "id": "qb0r4_WnVvCp"
      },
      "source": [
        "## **3. OTRA FUNCIONES QUE AYUDARAN A NUESTRO ALGORITMO APRIORI**\n"
      ]
    },
    {
      "cell_type": "code",
      "metadata": {
        "id": "4beZbFAVSRjx"
      },
      "source": [
        "# Contador de elementos, el numero de veces que se repite en la playlist\n",
        "def contador_element(n_subconjuntos, playlists):\n",
        "  if type(n_subconjuntos) is str:\n",
        "    n_subconjuntos = [n_subconjuntos]\n",
        "  # Si un elmento está en la transaccion\n",
        "  def contador_instancia(seq):\n",
        "    return set(n_subconjuntos).issubset(set(seq)) \n",
        "  return len(list(filter(contador_instancia, playlists))) "
      ],
      "execution_count": 2,
      "outputs": []
    },
    {
      "cell_type": "code",
      "metadata": {
        "id": "E6SewDvalNQr"
      },
      "source": [
        "def union_elemento(elemento, k):\n",
        "  if type(elemento[0]) == str and k == 2:\n",
        "    #Combinamos los 1_elementos\n",
        "    lista_temporal_union=list(combinations(elemento, k))\n",
        "    #Ordenamos la lista\n",
        "    return sorted(lista_temporal_union) \n",
        "  # Combinamos n-elmentos\n",
        "  else: \n",
        "    # Combinamos todos los n_elementos en grupos de 2\n",
        "    lista_temporal = list(combinations(elemento, 2)) \n",
        "    # Pasamos los de la tamaño n\n",
        "    lista_temporal2 =[]\n",
        "    for i in lista_temporal:\n",
        "      if len(set(iter.chain(*i))) == k and i[0][0] == i[1][0]:\n",
        "        lista_temporal2.append(tuple(set(iter.chain(*i))))\n",
        "\n",
        "    elementos = []\n",
        "    for i in lista_temporal2:\n",
        "      if i not in elementos:\n",
        "        # Los elemenots no se repiten\n",
        "        elementos.append(tuple(sorted(i))) \n",
        "    return elementos"
      ],
      "execution_count": 3,
      "outputs": []
    },
    {
      "cell_type": "code",
      "metadata": {
        "id": "BxalEhbUA8jq"
      },
      "source": [
        "def reglas(elemento):\n",
        "  # Funcion para hallar el el complemento de un conjunto\n",
        "  def complemento(elem,conjunto):\n",
        "    return tuple(set(conjunto) - set(elem))\n",
        "  if (len(elemento) == 2):\n",
        "    # reglas cuando hay dos elementos\n",
        "    return [(elemento[0], elemento[1]), (elemento[1], elemento[0])] \n",
        "  else:\n",
        "    list_temporal = []\n",
        "    for i in range(len(elemento)-1, 0,-1):\n",
        "      # Pasamos la reglas no repetidas\n",
        "      for elem in list(combinations(elemento, i)):\n",
        "        if complemento(elem, elemento) not in list_temporal:\n",
        "          list_temporal.append((elem, complemento(elem, elemento)))\n",
        "    return list_temporal"
      ],
      "execution_count": 4,
      "outputs": []
    },
    {
      "cell_type": "markdown",
      "metadata": {
        "id": "CKoA9YkT8bzo"
      },
      "source": [
        "##**4. FUNCIONES IMPORTANTES A UTILIZAR**"
      ]
    },
    {
      "cell_type": "markdown",
      "metadata": {
        "id": "nKXkgiYWWSMm"
      },
      "source": [
        "**1. FUNCION:** `get_frequent_itemsets(playlists, min_support):`\n",
        "\n",
        "Recibe la esctructura de datos que contiene a las playlists y retorna una estructura con los itemsets fre-\n",
        "cuentes, bajo un umbral mínimo de confianza."
      ]
    },
    {
      "cell_type": "code",
      "metadata": {
        "id": "-JZNY0z-lLgk"
      },
      "source": [
        "def get_frequent_itemsets(playlists, min_support):\n",
        "\n",
        "  #tolist() función que sirve para convertir un array en una lista\n",
        "  #dict_playlist_spotify=dataset_spotify.tolist()\n",
        "\n",
        "  #Para obtener una lista de valores\n",
        "  #playlists=list(dict_playlist_spotify.values())\n",
        "\n",
        "  # Procedemos a eliminar las canciones que se \"repiten\" en los playlist\n",
        "  playlists = [list(set(i)) for i in playlists]\n",
        "\n",
        "  #Convertimos a una sola lista todas la canciones de los 10000 playlist\n",
        "  all_playlist_onelist = list(iter.chain(*playlists))\n",
        "\n",
        "  #Primero vamor ordenar la lista\n",
        "  lista_ordenada=sorted(all_playlist_onelist)\n",
        "\n",
        "  # Vamos a identificar los 1-elementos mas frecuentes y obtenemos el numero de instancias\n",
        "  un_ElementoSoporte=[]\n",
        "  for elemento,lista in groupby(lista_ordenada):\n",
        "    soporte=len(list(lista))/len(playlists)\n",
        "    elementoSoporte=(elemento,soporte)\n",
        "    un_ElementoSoporte.append(elementoSoporte)\n",
        "\n",
        "  # Vamos a filtrar los elementos que son >= que min_support\n",
        "  frecuencia_unElemento=[]\n",
        "  for elemento,soporte in un_ElementoSoporte:\n",
        "    if soporte>=min_support:\n",
        "      elementS=(elemento,soporte)\n",
        "      frecuencia_unElemento.append(elementS) \n",
        "\n",
        "  # convertir a dataframe (por la gran cantidad de datos)\n",
        "  dataF_playlists_frecuente = pd.DataFrame(frecuencia_unElemento)\n",
        "  dataF_playlists_frecuente = dataF_playlists_frecuente.rename(columns = {0:'Elemento_frecuente', 1:'Support'})\n",
        "  print('Element_1: ', len(un_ElementoSoporte))\n",
        "  print(\"Nro_element:\",len(dataF_playlists_frecuente),'\\n' )\n",
        "\n",
        "  # Buscamos los 2_items frecuentes hasta n_items frecuentes hasta que no haya más\n",
        "  i = 2\n",
        "  # Nuestro dataframe final \n",
        "  dataFinal_lista = [] \n",
        "  dataF_set_frecuente = dataF_playlists_frecuente\n",
        "  # El elemento 1 ya hallamos por lo tanto empezamos del elemento 2\n",
        "  while len(dataF_set_frecuente) > 1:\n",
        "    # Unimos el elementos (n-1) para hallar el elemento (n)\n",
        "    n_elementos = union_elemento(list(dataF_set_frecuente['Elemento_frecuente']), i)\n",
        "    print('Element_'+str(i)+': ', len(n_elementos))\n",
        "    #Creamos un dataframe para guardar nuestro elemento frecuente, count_support,support en cada iteracion\n",
        "    dataF_n_elementos = pd.DataFrame()\n",
        "    #En la columna Elemento frecuente agregamos los elementos que unimos\n",
        "    dataF_n_elementos['Elemento_frecuente'] = n_elementos\n",
        "    #En la columna count support agregamos el numero de veces de los n_elementos en la transaccion\n",
        "    dataF_n_elementos['Count_support'] = dataF_n_elementos['Elemento_frecuente'].apply(contador_element, playlists = playlists)\n",
        "    #En la columna support agregamos el soporte de cada elementos\n",
        "    dataF_n_elementos['Support'] = dataF_n_elementos['Count_support']/len(playlists)\n",
        "    # Vamos a filtrar los elementos que son >= que min_support\n",
        "    dataF_set_frecuente = dataF_n_elementos[dataF_n_elementos['Support'] >= min_support] \n",
        "    print(\"Nro_element:\",len(dataF_set_frecuente),'\\n')\n",
        "    #Se aumenta en 1 oara encontrar los n_elementos\n",
        "    i += 1\n",
        "    # Adjuntamos nuestro dataF_set_frecuentes a la lista dataFinal_lista\n",
        "    dataFinal_lista.append(dataF_set_frecuente) \n",
        "    #print(dataFinal_lista)\n",
        "  return pd.concat([dataFinal_lista[i] for i in range(len(dataFinal_lista))])"
      ],
      "execution_count": 5,
      "outputs": []
    },
    {
      "cell_type": "markdown",
      "metadata": {
        "id": "T443s5c_Wk5U"
      },
      "source": [
        "**2. FUNCION:** `generate_association_rule (frequent_itemsets, confidence = 0, lift = 0):`\n",
        "\n",
        "Recibe los itemsets frecuentes generados por la función anterior y nos devuelve las reglas de asociación.\n",
        "\n",
        "Argumentos✅\n",
        "`confidence = 0.5 y lift = 1.2`"
      ]
    },
    {
      "cell_type": "code",
      "metadata": {
        "id": "y-AFvZ51lj7s"
      },
      "source": [
        "# A la funcion le entregamos un dataframe de n_elementos mas frecuentes\n",
        "# y tammbien confidence=0.5, lift=1.2\n",
        "def generate_association_rules(frequent_itemsets,confidence = 0, lift = 0):\n",
        "  # Buscamos todas las reglas en funcion al conjunto frecuente\n",
        "  lista_reglas = []\n",
        "  for i, row in frequent_itemsets.iterrows():\n",
        "    dFrame_temporal = pd.DataFrame()\n",
        "    regla_temporal = reglas(row['Elemento_frecuente'])\n",
        "    dFrame_temporal['Izquierda'] = [i[0] for i in regla_temporal]\n",
        "    dFrame_temporal['Derecha'] = [i[1] for i in regla_temporal]\n",
        "    dFrame_temporal['Count_support'] = [row['Count_support']] * len(regla_temporal)\n",
        "    lista_reglas.append(dFrame_temporal)\n",
        "  \n",
        "  concat_list=[]\n",
        "  for i in lista_reglas:\n",
        "    concat_list.append(i)\n",
        "  #Concatenamos los dataFrames\n",
        "  dFrame_reglas = pd.concat(concat_list)\n",
        "\n",
        "  # Hallamos los indicen de confianza y lift\n",
        "  dFrame_reglas['countderecha'] = dFrame_reglas['Derecha'].apply(contador_element, playlists = playlist)\n",
        "  dFrame_reglas['Reglas de asociacion'] = dFrame_reglas['Izquierda'].astype(str)+ \"<---->\" + dFrame_reglas['Derecha'].astype(str)\n",
        "  dFrame_reglas['Support'] = dFrame_reglas['Count_support']/len(playlist)\n",
        "  dFrame_reglas['Confidence'] = dFrame_reglas['Count_support']/dFrame_reglas['countderecha']\n",
        "  dFrame_reglas['supportderecha'] = dFrame_reglas['countderecha'] / len(playlist)\n",
        "  dFrame_reglas['Lift'] = dFrame_reglas['Confidence'] / dFrame_reglas['supportderecha']\n",
        "\n",
        "  # Mostramos las reglas que cumplan con confidence=0.5, lift=1.2\n",
        "  dFrame_reglas = dFrame_reglas[dFrame_reglas['Confidence'] >= confidence]\n",
        "  dFrame_reglas_final = dFrame_reglas[dFrame_reglas['Lift'] >= lift]\n",
        "  return dFrame_reglas_final.drop(['Izquierda','Derecha','Count_support', 'countderecha', 'supportderecha'], axis=1)"
      ],
      "execution_count": 6,
      "outputs": []
    },
    {
      "cell_type": "markdown",
      "metadata": {
        "id": "J-_2MwZ57idl"
      },
      "source": [
        "##**5. CARGAR EL DATASET  `spotify.npy`**\n",
        "\n",
        "Para cargar el dataset `spotify.npy` hacemos el uso de de la funcion `load`"
      ]
    },
    {
      "cell_type": "code",
      "metadata": {
        "id": "oFtw1I9V7iKK"
      },
      "source": [
        "dataset_spotify=np.load(\"spotify.npy\",allow_pickle=True)"
      ],
      "execution_count": 7,
      "outputs": []
    },
    {
      "cell_type": "markdown",
      "metadata": {
        "id": "aLovX1VkeRpe"
      },
      "source": [
        "##**6. APLICAR EL ALGORITMO Y OBTENER REGLAS DE ASOCIACIÓN**"
      ]
    },
    {
      "cell_type": "markdown",
      "metadata": {
        "id": "nMQ_saSzcqaP"
      },
      "source": [
        "Nuestro `dataset_spotify` convertinos en un multilistas"
      ]
    },
    {
      "cell_type": "code",
      "metadata": {
        "id": "T4Qiza0JZhEA"
      },
      "source": [
        "#tolist() función que sirve para convertir un array en una lista\n",
        "dict_playlist_spotify=dataset_spotify.tolist()\n",
        "#Para obtener una lista de valores\n",
        "playlist=list(dict_playlist_spotify.values())"
      ],
      "execution_count": 8,
      "outputs": []
    },
    {
      "cell_type": "markdown",
      "metadata": {
        "id": "zgc6yl-yg1WL"
      },
      "source": [
        "Mostramos el numero total de playlist"
      ]
    },
    {
      "cell_type": "code",
      "metadata": {
        "colab": {
          "base_uri": "https://localhost:8080/"
        },
        "id": "MqMKEtfagy4n",
        "outputId": "e973734b-ea59-4e2b-b017-3707aba1de1c"
      },
      "source": [
        "print(\"El numero de playlist en el dataset spotify.npy:\",len(playlist))"
      ],
      "execution_count": 9,
      "outputs": [
        {
          "output_type": "stream",
          "name": "stdout",
          "text": [
            "El numero de playlist en el dataset spotify.npy: 10000\n"
          ]
        }
      ]
    },
    {
      "cell_type": "markdown",
      "metadata": {
        "id": "jzrPhJtegbud"
      },
      "source": [
        "Una pequeña muestra de 12 playlist de un total de 10000 playlist de nuestro dataset `spotify.npy`"
      ]
    },
    {
      "cell_type": "code",
      "metadata": {
        "colab": {
          "base_uri": "https://localhost:8080/"
        },
        "id": "MIj8ow6bgKPP",
        "outputId": "4246f3d9-7485-4131-85bb-9064a387611f"
      },
      "source": [
        "for i in range(12):\n",
        "  print(\"Playlist \"+str(i+1)+\": \"+str(playlist[i]))"
      ],
      "execution_count": 10,
      "outputs": [
        {
          "output_type": "stream",
          "name": "stdout",
          "text": [
            "Playlist 1: ['Lose Control (feat. Ciara & Fat Man Scoop)', 'Toxic', 'Crazy In Love', 'Rock Your Body', \"It Wasn't Me\", 'Yeah!', 'My Boo', 'Buttons', 'Say My Name', 'Hey Ya! - Radio Mix / Club Mix', 'Promiscuous', 'Right Where You Want Me - Radio Edit Version', 'Beautiful Soul', \"Leavin'\", 'Me & U', 'Ice Box', 'Sk8er Boi', 'Run It!', 'Check On It - feat. Bun B and Slim Thug', \"Jumpin', Jumpin'\", 'Soak Up The Sun', 'Where Is The Love?', \"Stacy's Mom\", 'Just The Girl', 'Yo (Excuse Me Miss)', 'Year 3000', 'Lip Gloss', 'Everytime We Touch - Radio Edit', 'Whatcha Say', 'Miss Independent', 'Party In The U.S.A.', 'The Great Escape', 'Replay', 'Forever', 'Your Love Is My Drug', 'Closer', 'One Less Lonely Girl', 'Paper Planes', 'Mr. Brightside', 'All The Small Things', 'Beep', 'Somebody To Love', 'Dirty Little Secret', 'Baby', 'A Thousand Miles', 'Livin on Sunday', 'See You Again', 'How Do You Sleep? - Featuring Ludacris', 'This Is Me', 'My Happy Ending', 'Check Yes Juliet', 'The Great Escape']\n",
            "Playlist 2: ['Fathoms Below - Broadway Cast Recording', 'Daughters Of Triton - Broadway Cast Recording', 'The World Above - Broadway Cast Recording', 'Human Stuff - Broadway Cast Recording', 'I Want the Good Times Back - Broadway Cast Recording', 'Part Of Your World', 'Storm at Sea - Broadway Cast Recording', 'Part Of Your World (Reprise) - Broadway Cast Recording', \"She's in Love - Broadway Cast Recording\", 'Her Voice - Broadway Cast Recording', 'The World Above (Reprise) - Broadway Cast Recording', 'Under the Sea - Broadway Cast Recording', 'Under the Sea (Reprise) - Broadway Cast Recording', 'Sweet Child - Broadway Cast Recording', 'Poor Unfortunate Souls - Broadway Cast Recording', 'Positoovity - Broadway Cast Recording', 'Beyond My Wildest Dreams - Broadway Cast Recording', 'One Step Closer - Broadway Cast Recording', 'I Want the Good Times Back (Reprise) - Broadway Cast Recording', 'Kiss the Girl - Broadway Cast Recording', 'Sweet Child (Reprise) - Broadway Cast Recording', 'If Only (Quartet) - Broadway Cast Recording', 'The Contest - Broadway Cast Recording', 'Poor Unfortunate Souls (Reprise) - Broadway Cast Recording', 'If Only (Reprise) - Broadway Cast Recording', 'Finale - Broadway Cast Recording', 'Kiss the Girl - From \"The Little Mermaid\"/Soundtrack Version', 'Poor Unfortunate Souls - From \"The Little Mermaid\" / Soundtrack Version', 'Part of Your World (Reprise) - From \"The Little Mermaid\"/ Soundtrack Version', 'Under the Sea - From \"The Little Mermaid\"/ Soundtrack Version', 'Part of Your World - From \"The Little Mermaid\"/ Soundtrack Version', 'Daughters of Triton - From \"The Little Mermaid\"/ Soundtrack Version', 'Kiss the Girl', 'Under the Sea - From \"The Little Mermaid\"/ Soundtrack Version', 'Part of Your World - From \"The Little Mermaid\"/ Soundtrack Version', 'Poor Unfortunate Souls - From \"The Little Mermaid\" / Soundtrack Version', 'Kiss the Girl - From \"The Little Mermaid\"/Soundtrack Version', 'Happy Ending - From \"The Little Mermaid\"/ Soundtrack Version', 'Main Title - The Little Mermaid - From \"The Little Mermaid\"/ Score', 'Overture - Broadway Cast Recording', 'Overture', 'Arabian Nights', 'One Jump Ahead', 'One Jump Ahead (Reprise)', 'Proud of Your Boy', 'These Palace Walls', 'Babkak, Omar, Aladdin, Kassim', 'A Million Miles Away', 'Diamond in the Rough', 'Friend Like Me', 'Act One Finale', 'Prince Ali', 'A Whole New World', 'High Adventure', \"Somebody's Got Your Back\", 'Proud of Your Boy (Reprise)', 'Prince Ali (Sultan Reprise)', 'Prince Ali (Jafar Reprise)', 'Finale Ultimo', 'Proud of Your Boy', 'Genie Medley', 'Two Worlds', \"You'll Be In My Heart\", 'Two Worlds Reprise', 'Two Worlds - Phil Version', \"You'll Be In My Heart\", 'Two Worlds Finale', 'Son Of Man', 'Prologue (The Enchantress)', 'Belle', 'No Matter What', 'No Matter What/Wolf Chase - Reprise', 'Me', 'Belle - Reprise', 'Home', 'Home - Reprise', 'Gaston', 'Gaston - Reprise', 'How Long Must This Go On?', 'Be Our Guest', \"If I Can't Love Her\", \"Entr'Acte/Wolf Chase\", 'Something There', 'Human Again', 'Maison Des Lunes', 'Beauty And The Beast', \"If I Can't Love Her - Reprise\", 'The Mob Song', 'The Battle', 'End Duet / Transformation', 'Beauty And The Beast (Reprise)', 'Prologue: Beauty And The Beast - Soundtrack', 'Belle', 'Belle Reprise - Soundtrack', 'Gaston - From \"Beauty and the Beast\" / Soundtrack Version', 'Gaston (Reprise)', 'Be Our Guest - From \"Beauty and the Beast\"/Soundtrack', 'Something There', 'The Mob Song - Soundtrack', 'Beauty and the Beast', 'To The Fair', 'West Wing', 'The Beast Lets Belle Go', 'Battle On The Tower', 'Transformation', 'Beauty and the Beast - Duet with Peabo Bryson from the Soundtrack \"Beauty and the Beast\"', 'Beauty and the Beast', 'Two Worlds', \"You'll Be In My Heart - Broadway Cast Recording\", 'Who Better Than Me - Broadway Cast Recording', 'No Other Way - Broadway Cast Recording', 'I Need to Know - Broadway Cast Recording', 'Son of Man - Broadway Cast Recording', 'Sure As Sun Turns to Moon - Broadway Cast Recording', 'Waiting For This Moment - Broadway Cast Recording', 'Different - Broadway Cast Recording', \"Trashin' The Camp - Broadway Cast Recording\", \"Like No Man I've Ever Seen - Broadway Cast Recording\", 'Strangers Like Me - Broadway Cast Recording', 'For The First Time - Broadway Cast Recording', 'Who Better Than Me? (Reprise) - Broadway Cast Recording', 'Everything That I Am - Broadway Cast Recording', \"You'll Be In My Heart (Reprise) - Broadway Cast Recording\", 'Sure As Sun Turns to Moon (Reprise) - Broadway Cast Recording', 'Two Worlds (Finale) - Broadway Cast Recording', 'Everything That I Am - Broadway Cast Recording', \"There's A Party Here In Agrabah, Part I\", \"There's A Party Here In Agrabah, Part II\", 'Welcome To The Forty Thieves', 'Out Of Thin Air', 'Are You In Or Out?', 'Father And Son', 'Arabian Nights Reprise', 'Forget About Love (The Return Of Jafar)', 'You\\'re Only Second Rate - From \"The Return of Jafar\" / Soundtrack Version', \"I'm Looking Out For Me (The Return Of Jafar)\", 'Wedding/Attack Of The Forty Thieves', 'The Oracle', 'Magic Carpet/Parting The Seas', 'Genie And Jasmine/Cassim Leaves', 'Alley Talk/Guards Chase Aladdin', 'Dark Mountain/The Challenge', 'Aladdin And Cassim Escape', 'The Hand Of Midas', 'End Credits (Aladdin And The King Of Thieves)', 'Arabian Nights', 'Legend Of The Lamp', 'One Jump Ahead', 'Street Urchins', 'One Jump Ahead (Reprise)', 'To Be Free', 'A Whole New World', \"Jafar's Hour\", 'Prince Ali (Reprise)', 'The Ends Of The Earth', 'The Kiss', 'On A Dark Night', 'Jasmine Runs Away', 'Marketplace', 'The Cave Of Wonders', \"Aladdin's World\", 'The Battle', 'Happy End In Agrabah', \"A Whole New World (Aladdin's Theme)\", 'Long Ago...', 'The Gospel Truth I / Main Titles - Hercules', 'The Gospel Truth II', 'The Gospel Truth III', 'Go the Distance - From \"Hercules\"/Soundtrack', 'Zeus Todopoderoso', 'Go the Distance (Reprise)', 'One Last Hope', 'Zero To Hero', \"I Won't Say (I'm in Love)\", 'A Star Is Born', 'Go the Distance', 'La Gran Aceituna', 'La Profecia', 'Destrucción Del Agora', 'La Isla De Fil', 'Rodeo', 'Hablando Del Rey De Tebas', 'The Batalla Con La Hidra', 'El Jardín De Meg', 'La Villa De Hércules', 'El Más Mentecato', 'Cortando La Hebra', 'A True Hero / A Star Is Born', 'An Unusual Prince/Once Upon A Dream - From \"Sleeping Beauty\"/Soundtrack Version']\n",
            "Playlist 3: ['ABC', 'Point/Counterpoint', 'Billie Jean', 'Basket Case', 'Seven Nation Army', '1985', 'Rollup - Baauer Remix', 'Dirt Off Your Shoulder', 'So Ruff, So Tuff', 'Snow (Hey Oh) - Hey Oh Album Version', 'Werewolves Of London - 2007 Remastered Version', 'Two Princes', 'Jailhouse', 'Black Betty', \"Moar Ghosts 'n' Stuff\", 'Acid Raindrops', 'Guns Are Drawn', 'Disco Inferno', 'Ignition - Remix', \"Life's Been Good\", 'Black River Killer', 'Amazing', 'Young Americans - 2016 Remastered Version', 'Fame - 2016 Remastered Version', 'How We Do - Radio Edit', 'Never Say Goodbye - Radio Edit', 'Peace Frog', 'Animals - Extended', 'Fitzpleasure', 'Officer', 'The Message', 'Hey Brother', 'Hypnotize - 2014 Remastered Version', 'Big Poppa', 'Juicy', 'My Band', 'The Next Episode', \"Jessie's Girl\", 'Feels Like the First Time - 2008 Remastered Version', 'Hot Blooded', 'Cold As Ice - Single / LP Version', \"Don't Stop Believin'\", 'Somebody To Love - Remastered 2011', 'Bohemian Rhapsody - Remastered 2011', 'We Own the Night (feat. Luciana) [Original Mix]', 'Eyes On Fire - Zeds Dead Remix', 'Take Over Control - Radio Edit', 'Renegade', 'Sweet Emotion', 'Play That Funky Music', 'Gimme Shelter', 'Happy Violence', 'White Noise / Red Meat - Radio Edit', 'Feed The Dada', 'Kick Out The Epic Motherf**ker', \"Won't Get Fooled Again - Remix\", 'Free Bird', 'Foreplay / Long Time', 'More Than a Feeling', 'Pour Some Sugar On Me (2012)', 'Good Vibrations', 'Around The World / Harder Better Faster Stronger', 'My Name Is', 'Ass Like That', 'Without Me', 'I Wish', \"She's Got Me Dancing\", 'Me and Julio Down by the Schoolyard', 'Express Yourself', 'Give It Away', 'Ten Crack Commandments - 2014 Remastered Version', 'World Domination', 'Survival Tactics (feat. Capital Steez)', 'Every Other Freckle', 'You Sexy Thing', 'The W.A.N.D.', 'Gotta Get Away', 'Cocaine Blues', 'No Role Modelz', 'Left Hand Free - Lido Remix', 'Aeroplane', 'Kiss', 'Changes', 'Stronger', 'You & Me - Flume Remix', 'Hyperparadise - Flume Mixtape Version', 'Insane - L D R U Remix', 'New Lands', 'Sympathy For The Devil', 'Express Yourself', 'Get Down Tonight - 2004 Remastered Version', 'Rambo - Hardwell Edit', 'Hindsight', 'One Touch', 'Bap U', 'Turn up the Speakers - Original Mix', 'Okay', 'No Type', 'Hella Hoes', 'Party Up - GTA Remix', 'Paradise Awaits', 'Feel The Love - feat. John Newman [Fred V & Grafix Remix]', 'U Guessed It (Remix)', \"I'm Good\", 'The Light - Club Mix', \"We'll Be Ok\", 'Jaguar', 'HyperParadise - Flume Remix (Ganz Flip)', 'Feel The Volume', 'My Friends Never Die', 'In Time - Singularity Remix', 'Gecko (Overdrive) - Extended', 'Sun Models', 'Dumb Disco Ideas', 'Teenage Crime - Axwell & Henrik B Remode', 'Bend Ova', 'Symphonica - Original Mix', 'Recess (feat. Fatman Scoop and Michael Angelakos) - Milo And Otis Remix', 'Boy Oh Boy', 'Man Of The Year', \"We Won't Go Home - Jane Doze Remix\", 'High You Are', 'Bricks', 'Doses & Mimosas', 'Heads Will Roll - A-Trak Remix', 'Tuna Melt', 'Clash', 'Work REMIX', \"Can't You Hear Me Knocking - Remastered\", 'So Lonely - Remastered 2003', 'Roxanne - Remastered 2003', 'Pour Some Sugar on Me', 'Do It Again', 'White Lies', \"Every 1's A Winner\", 'Hoohah', \"I'm Doin' My Thang\", \"Ain't Nobody (Loves Me Better)\", \"While I Was Playin' Fair\", 'New Girl', 'Half Full Glass Of Wine', 'Runaway (U & I) - Kaskade Remix', 'Peanut Butter Jelly', 'Down The Road', 'Feed The Dada - 2015 Remix', 'Shine - Kygo Remix', 'Epsilon - Original Mix', 'Lean On (feat. MØ & DJ Snake)', 'Make You Mine (Radio Edit)', 'Kiss Kiss', 'Adore', 'Mirror Maru']\n",
            "Playlist 4: ['What Is Love 2016 - Mike Mago Remix', 'Love Me Now - Dave Audé Remix Radio Edit', 'Thinkin of U', 'I Will Be Here - (Wolfgang Gartner Remix)', 'The Party (This Is How We Do It)', \"I'll Take You - Solidisco Remix\", 'Show Me Love (Radio Edit)', 'Strike It Up', 'Hold Me Up - AM2PM Remix', 'Should’ve Been Us - DubVision Remix', \"Ain't No Mountain High Enough - Radio Edit\", 'Never Forget You (Future House Remix)', 'Closer - Wuki Remix', 'Down for U - Radio Mix', 'I Love You Always Forever', 'Better off That Way - Radio Mix']\n",
            "Playlist 5: ['Circles', 'Ramble Tamble', 'Brendan 1', \"Death of a Ladies' Man\", 'After Laughter (Comes Tears)', 'How You Doin, Here We Go', 'Please, Please, Please - Live At The Apollo Theater/1967', 'Wild Witch', 'Gut Feeling', 'Good Morning Judge', 'Black Water', 'Stumped', \"Nothin' In the World Can Stop Me Worryin' 'Bout That Girl\", 'Bluebirds Over The Mountain', 'Ghost to Me (Bonus Track)', 'Marea Baja', 'Little Town Flirt', 'Whiskeyclone, Hotel City 1997', 'Raspberry Cane', 'Betray', 'Egg Raid On Mojo - Demo', 'Egg Raid On Mojo', 'The Mingle', 'White Trash Heroes', 'Liquid Swords', 'Till We Meet Again', 'The Thing', 'Pleasure Point', 'Ebb Tide', 'Breakthrough', 'White Lies, Yellow Teeth', 'What Difference Does It Make? - John Peel session 5/18/83', 'Tundra/Desert', 'Holland, 1945', 'Best Night', 'The Bully', 'Levitate Me', 'One Way Out - Live At The Fillmore East/1971', \"Darlin'\", 'Road To Nowhere - 2005 Remastered Version', 'Road To Nowhere - 2005 Remastered Version', 'Sun Sinking Low', 'Chaos Engine', 'Planet of the Dreamers', 'Summertime', 'The Big Ship - 2004 Digital Remaster', 'Come and Get Your Love', 'Wintersong', \"You Don't Love Me\", 'Same Thing All Over', 'Hiroshima', 'Born to Lose', \"Death of a Ladies' Man\", 'Los Angeles', 'Children of the Grave - Remastered Version', 'Out On The Tiles', 'Filler', 'Merchandise - Demo', 'Time Of The Season (Mono Version)', 'Diarabi', 'Talk To God', 'Disco Fever', \"Oh! Sweet Nuthin' - 2015 Remastered\", 'Jean-Baptiste à la fenêtre', 'Drug Mugger', 'Staring at the Sun', 'Snakes And Martyrs', 'Back At The Farm', 'Everyone Who Pretended To Like Me Is Gone', 'Over And Done With']\n",
            "Playlist 6: ['Beach Baby', 'Paint', 'Bloom - Bonus Track', 'Can You Tell', 'Tee Shirt', 'Transatlanticism', 'Like Real People Do', 'The Girl', 'I Will Follow You Into The Dark', 'All You Ever Wanted', 'I And Love And You', 'Going To California', 'Let It Be Me', 'Facing West', 'Trouble', 'Arcadia', 'All I Want', 'Summertime Sadness', 'Menswear', 'Is There Somebody Who Can Watch You', 'Me', 'Sway', 'Do I Wanna Know?', 'Arabella', 'Medicine', 'Youth', 'Little Wanderer', \"You've Haunted Me All My Life\", 'Art Deco', 'Sad Girl', 'Pretty When You Cry', 'Halcyon', 'If I ever feel better', 'Leave Your Lover', 'Life Support', 'From Afar', 'Georgia', 'Chasing Cars', 'The Wilhelm Scream', '10,000 Emerald Pools', 'Riptide', 'Mykonos', 'Re:Stacks', 'Video Games', 'Myth', 'Sleep Baby Sleep', 'Samson', 'Almost Lover', 'Toxic', 'New Soul', 'Run - Revised Album Version', 'How to Save a Life', 'You Could Be Happy', 'God Only Knows', 'Vie En Rose', 'I Feel It All', 'Hotel Song', 'On The Radio', 'You and I', 'The Way I Am', 'Bridges', 'Mess Around', 'Fading Through', 'Weak', \"Don't Forget About Me\", \"I Don't Need To Know\", 'Baby Came Home 2 / Valentines', 'Smother', 'Faux', 'Old Pine', 'Runaway']\n",
            "Playlist 7: ['Drive // Stripped', 'Flies', 'Twuh', 'Countdown', 'Intro', 'Your Hand In Mine', \"A Poor Man's Memory\", 'I Want You So Bad', 'Summer Air', 'Her (Loving You)', 'Mercy', 'Bed Peace', 'The Worst', 'Happier', 'Dreams', 'A Thousand Times', 'Get Closer - Joe Mason Remix', \"Let Em' Know\", 'Into You', 'I Fall Apart', 'Letting Go (Dutty Love) featuring Nicki Minaj', \"Don't Leave\", 'Cherry Hill', \"I'm Here\", 'The Stakeout', 'Act Now', 'Me You', 'Ride Slow', \"Don't Lie\", 'I Wanna Go Down With You', 'Family & Friends', 'What They Want', 'Got This', 'No Turning Back', 'Losin Control', 'Back To You', 'Emergency', 'Pull The Trigger', 'MVP', 'Time Of Our Lives', 'Issues', 'Sweet Jane', 'Oxygen', 'Phoenix', 'Pull The Trigger', 'Mia & Sebastian’s Theme - From \"La La Land\" Soundtrack', 'City Of Stars - From \"La La Land\" Soundtrack/Pier', 'Gravity', 'Blood', 'Always Attract', 'Stone', \"She Don't (feat. Ty Dolla $Ign)\", 'The Other', 'Not My Type At All', 'To Build A Home', 'Jocelyn Flores', 'Can You Hold Me', '10 Feet Down', 'Let You Down', 'My Life', 'Paralyzed', 'Get You (feat. Kali Uchis)']\n",
            "Playlist 8: ['Bare', 'Dynasty', 'First', 'Your Girl', 'One Dance', \"Like It Doesn't Hurt (feat. Husser)\", 'Water Under the Bridge', 'Sweet Jane', 'Black Water', 'Taking You There', 'Letting In', 'Sober', 'U + Ur Hand', \"Don't Let Me Get Me - LP Version/Radio Edit\", \"You Don't Own Me\", 'Vice', 'No One', 'Broken-Hearted Girl', 'Sweet Dreams', 'Scared of Lonely', 'Drifting', 'Precious', 'Redemption', 'Crash & Burn', 'Back To The Garden', 'Slow Dance', 'Knock Knock', 'I Do', '80s Mercedes', 'We Don’t Have To Take Our Clothes Off - The Voice Performance', 'Goodbye', 'Next To Me', 'Show Me Love', 'Torn - Bonus Track', 'Scars To Your Beautiful', 'American Oxygen', 'All Time Low', 'Gravity', 'Sinking Deep', 'Sinking Deep', 'I Would Like', 'You Want More', 'Better Man', 'Better Man', 'In the Dark', \"For What It's Worth\", 'I Fall Apart', 'Bedroom Trip', 'Miss Atomic Bomb', 'Nervous (The Ooh Song) - Mark McCabe Remix', 'Slow Dance (Acoustic)', \"Don't Leave Just Yet\", \"Don't Leave\", 'Love Me Now', 'For Reasons Unknown', 'Oceans Away - Sam Feldt Remix', 'Lights Down Low', 'Ruin', 'Black', 'Hand In My Pocket - 2015 Remastered', 'Clean Break', 'Weak', 'Saved', 'No Promises', 'Guys My Age', 'Take It All Back 2.0', 'Same Drugs', 'Your Love', 'Reasons', 'Energy - Main Final', 'Sun Comes Up', 'I Wanted You', 'Your Song', 'Cocaine Blues', 'S.O.B.', 'High', 'The Way I Love Her', 'Ahead Of Myself', 'Everybody Dies In Their Nightmares', 'Old Guitar', 'watch', 'New', 'This Town']\n",
            "Playlist 9: ['Thinking Out Loud - Alex Adair Remix', 'How Hard I Try', 'Overload', 'Down By The River', 'Wonderwall - Remastered', 'Scar Tissue', 'Otherside', 'Let Me Down Easy', 'Old Thing Back (feat. Ja Rule and Ralph Tresvant)', 'What Do I Know?', 'Springsteen', 'The Sound Of Sunshine', 'Thotful', 'Santeria', 'Upside Down', 'One Love / People Get Ready', 'Brown Eyed Girl', 'Daughters', 'Suntan City', 'Heaven', 'Perfectly Lonely', 'Wordplay', 'Love Somebody', 'Only Wanna Be With You', 'Malibu', 'Good Girls - Bonus Track', 'Redbone', 'Slow Hands', \"Blue Ain't Your Color\", 'Island In The Sun', 'Cocoon', 'Feels Like Summer', 'Body Like A Back Road', 'Beautiful Girl', 'Dive', 'Steal My Sunshine - Remastered Anniversary Edition', 'Around The World', 'Drift Away', 'Follow Me', 'Heartache On The Dance Floor', 'Cake - East & Young Remix', 'Give Love', 'My Girl', 'Build Me Up Buttercup', 'The Man', 'I Want You Back', 'Starving', 'You Broke Up with Me']\n",
            "Playlist 10: ['Xtalk - Kodak to Graph Remix', 'Slipping Away - Original Mix', 'War', 'My Song 5', 'Weekend - Jai Wolf Remix', 'What So Not Touched (OWO Vocal Mix)', 'Want It (feat. Juicy J)', 'Hypnotic', 'Own Life (feat. Anderson .Paak)', 'To Ü (feat. AlunaGeorge)', 'Summer Time', 'On My Way to Heaven - Seven Lions Remix', 'Dino War', 'Love You More', 'Promises - Twrk Remix', 'PLAGUES', 'Let Me Drive (feat. A.M.I.E. & Mayneday)', 'Hot As You Want', 'Forever Bound (Jorgen Odegard Remix) [feat. Jorgen Odegard]', 'Good For You - Yellow Claw & Cesqeaux Remix', 'Spaceman - Carnage Festival Trap Remix', 'Rage the Night Away', 'Friends', 'Something Something Champs - Radio Edit', 'Gold Dust - East & Young Remix', 'Heroes (we could be) - Grandtheft Remix', 'Talking Body - The Young Professionals Remix', 'Body Talk - Radio Edit', 'Animals - Gryffin Remix', 'Operate - The Chainsmokers Remix', 'Limelight - NGHTMRE Remix', 'Stadium - Original Mix', 'Graffiti', 'One In A Million - Original Mix', 'Another You - Headhunterz Radio Edit', 'Too Much', 'We are the Hearts', 'Just A Thought', 'Things Happen', 'Something About You - ODESZA Remix', \"Can't Feel My Face - Martin Garrix Remix\", 'Trophy (feat. RahRah The Savage)', 'Afterlife (Remix by Frank Pole)', 'Hiy Hiy (Milkman Remix)', \"I Don't Like It, I Love It (feat. Robin Thicke & Verdine White) - Kasum Remix\", 'Capricious (Paces Remix)', 'All The Time', \"Sun Don't Shine\", 'Beautiful Now - Big Gigantic Remix', 'Trndsttr (feat. M. Maggie)', 'Take U Out', 'Miracle - Club Mix', 'Raindrops - Doorlys Dubstep Remix', \"I'll Be Your Reason\", 'All My Friends - 99 Souls Remix', 'Of The Night', 'Silhouettes', \"U Don't Know - Slander Remix\", 'Beautiful Now - Marshmello Remix', 'Smile - Max Elto Rewind Version', \"L'amour toujours - Tiesto Radio Edit\", 'Smile', 'Do You Remember', 'Bitches', 'STONEFIST', 'Your Soul', 'Feel So Close - Nero Remix', 'Genghis Khan', 'Heart Is Full', 'Idle Hands', 'Stronger', 'Mine - Michael Keenan Remix', 'Crave You', 'Hell Of A Night', 'Motley Crew - Gener8ion Remix', 'Dangerous - Oliver Remix', 'Lost (feat. Marie St. Charles)', 'Daydreamer - Gryffin Remix', 'Global Concepts', 'Not Yet', 'High - US Radio Edit', 'Rescue Me feat. Juliana Chahayed', 'Hard to Forget', 'Cadaverous - Original Mix', 'Stranded', 'Kill For You', 'Parking Lots (Arpyem Remix)']\n",
            "Playlist 11: ['Eye of the Tiger', 'Libera Me From Hell (Tengen Toppa Gurren Lagann)', 'Pokémon Theme', 'Concerning Hobbits (The Lord of the Rings)', 'The Blood of Cuchulainn (The Boondock Saints)', \"He's a Pirate (Pirates of the Caribbean)\", \"Very Bloody Tears (Castlevania II: Simon's Quest)\", 'U.N. Owen Was Her? (Remix)', 'I am the Doctor in Utah', 'The Room Where It Happens', 'Right Hand Man', 'Alexander Hamilton', 'My Shot', 'Stairway To Heaven', 'Shine', 'Ghost Love Score', 'Crazy', 'Sympathy For The Devil', 'Gimme Shelter', 'Free Bird', 'Peace of Mind', 'Foreplay / Long Time', 'Hold the Line', 'Carry on Wayward Son', 'Bohemian Rhapsody - Remastered 2011', 'Sweet Home Alabama', 'More Than a Feeling', 'Kashmir', 'The Majestic Tale (Of A Madman In A Box)', \"Sweet Child O' Mine\", 'Fortunate Son', 'Rock You Like A Hurricane', 'Tom Sawyer', 'Red Barchetta', 'YYZ', 'Limelight', 'The Camera Eye', 'Witch Hunt', 'Vital Signs']\n",
            "Playlist 12: ['Snow Tip Cap Mountain', 'Truck', \"Bees Bein' Strugglin'\", 'An Evening with Rthrtha', 'Black Blizzard/Red Umbrella', 'Upmann', 'Mmaj', 'I Saw the Bright Shinies', 'Ghost Moves', 'Vanishing Lessons', 'Exploding Snowhorse', 'Loud Murmuring', 'Queen', 'Spiracle', 'Marshmallow Window', \"It Hurts to Shoot Lazers from Your Fingers, But It's Necessary\", 'Lollipopsichord', 'Elq Milq', 'All the Friends You Can Eat', 'Copying Soup Onto Sexy Birdy', 'Psychic Swelling', 'Lemon Lime Face', 'Helium Tea', 'Beds', 'Runite Castles', 'Tony Face', 'Royal Firecracker Teeth', 'Foxy and the Weight of the World', 'Windshield Smasher', 'The Dark Forest Joggers', 'Royal Firecracker Teeth', 'We Are the Pagans', 'All the Friends You Can Eat (Original)', 'Happy Melted City', 'Another Place', 'Helium Tea', 'Lemon Lime Face', 'Twin Of Myself (Original)', 'Moody Day', 'Changing You All', 'Marshmallow Window', 'Untitled Roadside Demo (Original)', 'Old Yes', 'Untitled Hidden Track', 'Mockingbird Comes Calling For You', 'Forever Heavy', 'Jump into My Mouth and Breathe the Stardust', 'Melt Me', 'Lollpopsichord', 'They Live in the Meadow', 'Sun Lips', 'Rollerdisco', 'Neon Syrup for the Cemetery Sisters', 'The Afternoon Turns Pink', 'When the Sun Grows on Your Tongue', 'Spinning Cotton Candy in a Shack Made of Shingles', 'Drippy Eye', 'Lost, Picking Flowers in the Woods', 'Caterpillar House', 'Wall of Gum', 'Untitled Roadside Demo', 'Untitled Hidden Track', 'Streaker (feat. Notrabel)', 'Good Complexion', 'Video Warning Attempts', 'Eruption (Gonna Get My Hair Cut at the End of the Summer)', 'Lipstick Destroyer', 'Self Tanner', 'Face Breakout', 'Blow Your Heart', 'Beast Sting', 'Dipsmack', 'Creaming for Beginners', 'Omen Classic', 'Pool City, McKnight Road', 'Spitlord', 'Father Sister Berzerker', 'The Touch from Within', 'Braided Cellophane', 'What You Gonna Say To Me?', 'Street Trash', 'Into The Rainbow Vein', 'Chromakey Dreamcoat', 'Satellite Anthem Icarus', 'Peacock Tail', 'Dayvan Cowboy', 'A Moment Of Clarity', '84 Pontiac Dream', 'Sherbet Head', 'Oscar See Through Red Eye', 'Ataronchronon', 'Hey Saturday Sun', 'Constants Are Changing', 'Slow This Bird Down', 'Tears From The Compound Eye', 'Farewell Fire', 'Ready Lets Go', 'Music Is Math', 'Beware The Friendly Stranger', 'Gyroscope', 'Dandelion', 'Sunshine Recorder', 'In The Annexe', 'Julie And Candy', 'The Smallest Weird Number', '1969', 'Energy Warning', 'The Beach At Redpoint', 'Opening The Mouth', 'Alpha And Omega', 'I Saw Drones', 'The Devil Is In The Details', 'A Is To B As B Is To C', 'Over The Horizon Radar', 'Dawn Chorus', 'Diving Station', 'You Could Feel The Sky', 'Corsair', 'Magic Window', 'Wildlife Analysis', 'An Eagle In Your Mind', 'The Color Of The Fire', 'Telephasic Workshop', 'Triangles & Rhombuses', 'Sixtyten', 'Turquoise Hexagon Sun', 'Kaini Industries', 'Bocuma', 'Roygbiv', 'Rue The Whirl', 'Aquarius', 'Olson', 'Pete Standing Alone', 'Smokes Quantity', 'Open The Light', 'One Very Important Thought', 'Happy Cycling', 'Whistling In Tongues', 'Miss Teardrop', 'Dirty Nightgown', 'Falling Off A Horse', 'Sleeping Household', 'Crooked Breath', 'Red Handed', 'Black Shoes', 'Radio Right Now', 'Minka', 'Shpongle Falls - 2017 Remaster', 'Monster Hit', 'Vapour Rumours', 'Shpongle Spores - 2017 Remaster', 'Behind Closed Eyelids', 'Divine Moments of Truth - 2017 Remaster', '…And The Day Turned To Night', 'Secret Channel', 'Magnetic', 'Audiomaze', \"Don't Worry.com\", 'Palmistry', 'Devotional', 'Big Brother', 'Triangular Objects', 'Biotech', 'Alla', 'Marilyn Set Me Free']\n"
          ]
        }
      ]
    },
    {
      "cell_type": "markdown",
      "metadata": {
        "id": "Ze24bSzmiUmk"
      },
      "source": [
        "###**PARA OBTENER N_ITEMS FRECUENTES**"
      ]
    },
    {
      "cell_type": "markdown",
      "metadata": {
        "id": "EPqAmzGPdVO-"
      },
      "source": [
        "**1. FUNCION:** `get_frequent_itemsets(playlists, min_support):`\n",
        "\n",
        "\n",
        "*   `playlist` = `list_playlist_spotify`\n",
        "*   `min_suport` = `0.0162`\n",
        "\n"
      ]
    },
    {
      "cell_type": "markdown",
      "metadata": {
        "id": "4QHMBsmYY5En"
      },
      "source": [
        "Utilzando la función `get_frequent_itemsets` obtenemos nuestro n_items frecuentes"
      ]
    },
    {
      "cell_type": "code",
      "metadata": {
        "id": "M9ZQFFWnyXLu"
      },
      "source": [
        "#min_support=0.0162\n",
        "min_support=0.0162"
      ],
      "execution_count": 11,
      "outputs": []
    },
    {
      "cell_type": "code",
      "metadata": {
        "colab": {
          "base_uri": "https://localhost:8080/"
        },
        "id": "vuvqY6m5i6-d",
        "outputId": "707b250e-b971-4517-80cf-71d27710f1ec"
      },
      "source": [
        "frequent_set_item=get_frequent_itemsets(playlist, min_support)"
      ],
      "execution_count": 13,
      "outputs": [
        {
          "output_type": "stream",
          "name": "stdout",
          "text": [
            "Element_1:  132920\n",
            "Nro_element: 279 \n",
            "\n",
            "Element_2:  38781\n",
            "Nro_element: 12 \n",
            "\n",
            "Element_3:  10\n",
            "Nro_element: 0 \n",
            "\n"
          ]
        }
      ]
    },
    {
      "cell_type": "code",
      "metadata": {
        "colab": {
          "base_uri": "https://localhost:8080/",
          "height": 425
        },
        "id": "jjdLxPLuCFvw",
        "outputId": "4dd630d5-42ce-4114-bcf7-8dc4f56bede5"
      },
      "source": [
        "frequent_set_item"
      ],
      "execution_count": 14,
      "outputs": [
        {
          "output_type": "execute_result",
          "data": {
            "text/html": [
              "<div>\n",
              "<style scoped>\n",
              "    .dataframe tbody tr th:only-of-type {\n",
              "        vertical-align: middle;\n",
              "    }\n",
              "\n",
              "    .dataframe tbody tr th {\n",
              "        vertical-align: top;\n",
              "    }\n",
              "\n",
              "    .dataframe thead th {\n",
              "        text-align: right;\n",
              "    }\n",
              "</style>\n",
              "<table border=\"1\" class=\"dataframe\">\n",
              "  <thead>\n",
              "    <tr style=\"text-align: right;\">\n",
              "      <th></th>\n",
              "      <th>Elemento_frecuente</th>\n",
              "      <th>Count_support</th>\n",
              "      <th>Support</th>\n",
              "    </tr>\n",
              "  </thead>\n",
              "  <tbody>\n",
              "    <tr>\n",
              "      <th>5640</th>\n",
              "      <td>(Bad and Boujee (feat. Lil Uzi Vert), Bounce B...</td>\n",
              "      <td>169</td>\n",
              "      <td>0.0169</td>\n",
              "    </tr>\n",
              "    <tr>\n",
              "      <th>5700</th>\n",
              "      <td>(Bad and Boujee (feat. Lil Uzi Vert), HUMBLE.)</td>\n",
              "      <td>167</td>\n",
              "      <td>0.0167</td>\n",
              "    </tr>\n",
              "    <tr>\n",
              "      <th>9386</th>\n",
              "      <td>(Broccoli (feat. Lil Yachty), Caroline)</td>\n",
              "      <td>172</td>\n",
              "      <td>0.0172</td>\n",
              "    </tr>\n",
              "    <tr>\n",
              "      <th>13843</th>\n",
              "      <td>(Congratulations, HUMBLE.)</td>\n",
              "      <td>214</td>\n",
              "      <td>0.0214</td>\n",
              "    </tr>\n",
              "    <tr>\n",
              "      <th>13893</th>\n",
              "      <td>(Congratulations, Mask Off)</td>\n",
              "      <td>162</td>\n",
              "      <td>0.0162</td>\n",
              "    </tr>\n",
              "    <tr>\n",
              "      <th>14014</th>\n",
              "      <td>(Congratulations, XO TOUR Llif3)</td>\n",
              "      <td>179</td>\n",
              "      <td>0.0179</td>\n",
              "    </tr>\n",
              "    <tr>\n",
              "      <th>14023</th>\n",
              "      <td>(Congratulations, iSpy (feat. Lil Yachty))</td>\n",
              "      <td>162</td>\n",
              "      <td>0.0162</td>\n",
              "    </tr>\n",
              "    <tr>\n",
              "      <th>15160</th>\n",
              "      <td>(DNA., HUMBLE.)</td>\n",
              "      <td>190</td>\n",
              "      <td>0.0190</td>\n",
              "    </tr>\n",
              "    <tr>\n",
              "      <th>21810</th>\n",
              "      <td>(HUMBLE., Mask Off)</td>\n",
              "      <td>204</td>\n",
              "      <td>0.0204</td>\n",
              "    </tr>\n",
              "    <tr>\n",
              "      <th>21931</th>\n",
              "      <td>(HUMBLE., XO TOUR Llif3)</td>\n",
              "      <td>204</td>\n",
              "      <td>0.0204</td>\n",
              "    </tr>\n",
              "    <tr>\n",
              "      <th>21938</th>\n",
              "      <td>(HUMBLE., goosebumps)</td>\n",
              "      <td>167</td>\n",
              "      <td>0.0167</td>\n",
              "    </tr>\n",
              "    <tr>\n",
              "      <th>29856</th>\n",
              "      <td>(Mask Off, XO TOUR Llif3)</td>\n",
              "      <td>163</td>\n",
              "      <td>0.0163</td>\n",
              "    </tr>\n",
              "  </tbody>\n",
              "</table>\n",
              "</div>"
            ],
            "text/plain": [
              "                                      Elemento_frecuente  ...  Support\n",
              "5640   (Bad and Boujee (feat. Lil Uzi Vert), Bounce B...  ...   0.0169\n",
              "5700      (Bad and Boujee (feat. Lil Uzi Vert), HUMBLE.)  ...   0.0167\n",
              "9386             (Broccoli (feat. Lil Yachty), Caroline)  ...   0.0172\n",
              "13843                         (Congratulations, HUMBLE.)  ...   0.0214\n",
              "13893                        (Congratulations, Mask Off)  ...   0.0162\n",
              "14014                   (Congratulations, XO TOUR Llif3)  ...   0.0179\n",
              "14023         (Congratulations, iSpy (feat. Lil Yachty))  ...   0.0162\n",
              "15160                                    (DNA., HUMBLE.)  ...   0.0190\n",
              "21810                                (HUMBLE., Mask Off)  ...   0.0204\n",
              "21931                           (HUMBLE., XO TOUR Llif3)  ...   0.0204\n",
              "21938                              (HUMBLE., goosebumps)  ...   0.0167\n",
              "29856                          (Mask Off, XO TOUR Llif3)  ...   0.0163\n",
              "\n",
              "[12 rows x 3 columns]"
            ]
          },
          "metadata": {},
          "execution_count": 14
        }
      ]
    },
    {
      "cell_type": "markdown",
      "metadata": {
        "id": "1tjq9eWJ9BGv"
      },
      "source": [
        "### **PARA OBTENER REGLAS DE ASOCIACIÓN**"
      ]
    },
    {
      "cell_type": "markdown",
      "metadata": {
        "id": "kgQKX2Xmje2t"
      },
      "source": [
        "**2. FUNCION:** `generate_association_rule (frequent_itemsets, confidence = 0, lift = 0):`\n",
        "\n",
        "*   `frequent_itemsets = frequent_item`\n",
        "*   `confidence = 0.5`\n",
        "*   `lift = 1.2`\n",
        "\n",
        "\n"
      ]
    },
    {
      "cell_type": "markdown",
      "metadata": {
        "id": "5SluGzUN0V5m"
      },
      "source": [
        "Obtenemos las reglas de asociacion"
      ]
    },
    {
      "cell_type": "code",
      "metadata": {
        "id": "duFpvHcoB_cx"
      },
      "source": [
        "reglas_association = generate_association_rules(frequent_set_item, confidence=0.5, lift=1.2)"
      ],
      "execution_count": 15,
      "outputs": []
    },
    {
      "cell_type": "code",
      "metadata": {
        "colab": {
          "base_uri": "https://localhost:8080/",
          "height": 363
        },
        "id": "J8p-dbSJCEgr",
        "outputId": "8ec7b2b3-1d0e-4e2f-eae7-575e772102d6"
      },
      "source": [
        "reglas_association"
      ],
      "execution_count": 16,
      "outputs": [
        {
          "output_type": "execute_result",
          "data": {
            "text/html": [
              "<div>\n",
              "<style scoped>\n",
              "    .dataframe tbody tr th:only-of-type {\n",
              "        vertical-align: middle;\n",
              "    }\n",
              "\n",
              "    .dataframe tbody tr th {\n",
              "        vertical-align: top;\n",
              "    }\n",
              "\n",
              "    .dataframe thead th {\n",
              "        text-align: right;\n",
              "    }\n",
              "</style>\n",
              "<table border=\"1\" class=\"dataframe\">\n",
              "  <thead>\n",
              "    <tr style=\"text-align: right;\">\n",
              "      <th></th>\n",
              "      <th>Reglas de asociacion</th>\n",
              "      <th>Support</th>\n",
              "      <th>Confidence</th>\n",
              "      <th>Lift</th>\n",
              "    </tr>\n",
              "  </thead>\n",
              "  <tbody>\n",
              "    <tr>\n",
              "      <th>0</th>\n",
              "      <td>Bad and Boujee (feat. Lil Uzi Vert)&lt;----&gt;Bounc...</td>\n",
              "      <td>0.0169</td>\n",
              "      <td>0.569024</td>\n",
              "      <td>19.159043</td>\n",
              "    </tr>\n",
              "    <tr>\n",
              "      <th>1</th>\n",
              "      <td>HUMBLE.&lt;----&gt;Congratulations</td>\n",
              "      <td>0.0214</td>\n",
              "      <td>0.531017</td>\n",
              "      <td>13.176610</td>\n",
              "    </tr>\n",
              "    <tr>\n",
              "      <th>0</th>\n",
              "      <td>Congratulations&lt;----&gt;Mask Off</td>\n",
              "      <td>0.0162</td>\n",
              "      <td>0.512658</td>\n",
              "      <td>16.223362</td>\n",
              "    </tr>\n",
              "    <tr>\n",
              "      <th>0</th>\n",
              "      <td>Congratulations&lt;----&gt;XO TOUR Llif3</td>\n",
              "      <td>0.0179</td>\n",
              "      <td>0.554180</td>\n",
              "      <td>17.157262</td>\n",
              "    </tr>\n",
              "    <tr>\n",
              "      <th>1</th>\n",
              "      <td>HUMBLE.&lt;----&gt;DNA.</td>\n",
              "      <td>0.0190</td>\n",
              "      <td>0.822511</td>\n",
              "      <td>35.606529</td>\n",
              "    </tr>\n",
              "    <tr>\n",
              "      <th>0</th>\n",
              "      <td>HUMBLE.&lt;----&gt;Mask Off</td>\n",
              "      <td>0.0204</td>\n",
              "      <td>0.645570</td>\n",
              "      <td>20.429418</td>\n",
              "    </tr>\n",
              "    <tr>\n",
              "      <th>0</th>\n",
              "      <td>HUMBLE.&lt;----&gt;XO TOUR Llif3</td>\n",
              "      <td>0.0204</td>\n",
              "      <td>0.631579</td>\n",
              "      <td>19.553528</td>\n",
              "    </tr>\n",
              "    <tr>\n",
              "      <th>0</th>\n",
              "      <td>HUMBLE.&lt;----&gt;goosebumps</td>\n",
              "      <td>0.0167</td>\n",
              "      <td>0.542208</td>\n",
              "      <td>17.604149</td>\n",
              "    </tr>\n",
              "    <tr>\n",
              "      <th>0</th>\n",
              "      <td>Mask Off&lt;----&gt;XO TOUR Llif3</td>\n",
              "      <td>0.0163</td>\n",
              "      <td>0.504644</td>\n",
              "      <td>15.623652</td>\n",
              "    </tr>\n",
              "    <tr>\n",
              "      <th>1</th>\n",
              "      <td>XO TOUR Llif3&lt;----&gt;Mask Off</td>\n",
              "      <td>0.0163</td>\n",
              "      <td>0.515823</td>\n",
              "      <td>16.323506</td>\n",
              "    </tr>\n",
              "  </tbody>\n",
              "</table>\n",
              "</div>"
            ],
            "text/plain": [
              "                                Reglas de asociacion  ...       Lift\n",
              "0  Bad and Boujee (feat. Lil Uzi Vert)<---->Bounc...  ...  19.159043\n",
              "1                       HUMBLE.<---->Congratulations  ...  13.176610\n",
              "0                      Congratulations<---->Mask Off  ...  16.223362\n",
              "0                 Congratulations<---->XO TOUR Llif3  ...  17.157262\n",
              "1                                  HUMBLE.<---->DNA.  ...  35.606529\n",
              "0                              HUMBLE.<---->Mask Off  ...  20.429418\n",
              "0                         HUMBLE.<---->XO TOUR Llif3  ...  19.553528\n",
              "0                            HUMBLE.<---->goosebumps  ...  17.604149\n",
              "0                        Mask Off<---->XO TOUR Llif3  ...  15.623652\n",
              "1                        XO TOUR Llif3<---->Mask Off  ...  16.323506\n",
              "\n",
              "[10 rows x 4 columns]"
            ]
          },
          "metadata": {},
          "execution_count": 16
        }
      ]
    },
    {
      "cell_type": "markdown",
      "metadata": {
        "id": "J07JyFGokKAt"
      },
      "source": [
        "###**MEJORES 10 REGLAS DE ASOCIACIÓN**"
      ]
    },
    {
      "cell_type": "markdown",
      "metadata": {
        "id": "js_6KSt300Hf"
      },
      "source": [
        "Nuestras mejores 10 reglas de asociacion"
      ]
    },
    {
      "cell_type": "code",
      "metadata": {
        "colab": {
          "base_uri": "https://localhost:8080/",
          "height": 363
        },
        "id": "BblGGdOz06pv",
        "outputId": "6d89d9f4-2ae5-47bc-b45a-773a13298d73"
      },
      "source": [
        "reglas_association = reglas_association.sort_values(by=['Confidence','Lift','Support'],ascending = False).reset_index(drop = True)\n",
        "reglas_association"
      ],
      "execution_count": 17,
      "outputs": [
        {
          "output_type": "execute_result",
          "data": {
            "text/html": [
              "<div>\n",
              "<style scoped>\n",
              "    .dataframe tbody tr th:only-of-type {\n",
              "        vertical-align: middle;\n",
              "    }\n",
              "\n",
              "    .dataframe tbody tr th {\n",
              "        vertical-align: top;\n",
              "    }\n",
              "\n",
              "    .dataframe thead th {\n",
              "        text-align: right;\n",
              "    }\n",
              "</style>\n",
              "<table border=\"1\" class=\"dataframe\">\n",
              "  <thead>\n",
              "    <tr style=\"text-align: right;\">\n",
              "      <th></th>\n",
              "      <th>Reglas de asociacion</th>\n",
              "      <th>Support</th>\n",
              "      <th>Confidence</th>\n",
              "      <th>Lift</th>\n",
              "    </tr>\n",
              "  </thead>\n",
              "  <tbody>\n",
              "    <tr>\n",
              "      <th>0</th>\n",
              "      <td>HUMBLE.&lt;----&gt;DNA.</td>\n",
              "      <td>0.0190</td>\n",
              "      <td>0.822511</td>\n",
              "      <td>35.606529</td>\n",
              "    </tr>\n",
              "    <tr>\n",
              "      <th>1</th>\n",
              "      <td>HUMBLE.&lt;----&gt;Mask Off</td>\n",
              "      <td>0.0204</td>\n",
              "      <td>0.645570</td>\n",
              "      <td>20.429418</td>\n",
              "    </tr>\n",
              "    <tr>\n",
              "      <th>2</th>\n",
              "      <td>HUMBLE.&lt;----&gt;XO TOUR Llif3</td>\n",
              "      <td>0.0204</td>\n",
              "      <td>0.631579</td>\n",
              "      <td>19.553528</td>\n",
              "    </tr>\n",
              "    <tr>\n",
              "      <th>3</th>\n",
              "      <td>Bad and Boujee (feat. Lil Uzi Vert)&lt;----&gt;Bounc...</td>\n",
              "      <td>0.0169</td>\n",
              "      <td>0.569024</td>\n",
              "      <td>19.159043</td>\n",
              "    </tr>\n",
              "    <tr>\n",
              "      <th>4</th>\n",
              "      <td>Congratulations&lt;----&gt;XO TOUR Llif3</td>\n",
              "      <td>0.0179</td>\n",
              "      <td>0.554180</td>\n",
              "      <td>17.157262</td>\n",
              "    </tr>\n",
              "    <tr>\n",
              "      <th>5</th>\n",
              "      <td>HUMBLE.&lt;----&gt;goosebumps</td>\n",
              "      <td>0.0167</td>\n",
              "      <td>0.542208</td>\n",
              "      <td>17.604149</td>\n",
              "    </tr>\n",
              "    <tr>\n",
              "      <th>6</th>\n",
              "      <td>HUMBLE.&lt;----&gt;Congratulations</td>\n",
              "      <td>0.0214</td>\n",
              "      <td>0.531017</td>\n",
              "      <td>13.176610</td>\n",
              "    </tr>\n",
              "    <tr>\n",
              "      <th>7</th>\n",
              "      <td>XO TOUR Llif3&lt;----&gt;Mask Off</td>\n",
              "      <td>0.0163</td>\n",
              "      <td>0.515823</td>\n",
              "      <td>16.323506</td>\n",
              "    </tr>\n",
              "    <tr>\n",
              "      <th>8</th>\n",
              "      <td>Congratulations&lt;----&gt;Mask Off</td>\n",
              "      <td>0.0162</td>\n",
              "      <td>0.512658</td>\n",
              "      <td>16.223362</td>\n",
              "    </tr>\n",
              "    <tr>\n",
              "      <th>9</th>\n",
              "      <td>Mask Off&lt;----&gt;XO TOUR Llif3</td>\n",
              "      <td>0.0163</td>\n",
              "      <td>0.504644</td>\n",
              "      <td>15.623652</td>\n",
              "    </tr>\n",
              "  </tbody>\n",
              "</table>\n",
              "</div>"
            ],
            "text/plain": [
              "                                Reglas de asociacion  ...       Lift\n",
              "0                                  HUMBLE.<---->DNA.  ...  35.606529\n",
              "1                              HUMBLE.<---->Mask Off  ...  20.429418\n",
              "2                         HUMBLE.<---->XO TOUR Llif3  ...  19.553528\n",
              "3  Bad and Boujee (feat. Lil Uzi Vert)<---->Bounc...  ...  19.159043\n",
              "4                 Congratulations<---->XO TOUR Llif3  ...  17.157262\n",
              "5                            HUMBLE.<---->goosebumps  ...  17.604149\n",
              "6                       HUMBLE.<---->Congratulations  ...  13.176610\n",
              "7                        XO TOUR Llif3<---->Mask Off  ...  16.323506\n",
              "8                      Congratulations<---->Mask Off  ...  16.223362\n",
              "9                        Mask Off<---->XO TOUR Llif3  ...  15.623652\n",
              "\n",
              "[10 rows x 4 columns]"
            ]
          },
          "metadata": {},
          "execution_count": 17
        }
      ]
    },
    {
      "cell_type": "markdown",
      "metadata": {
        "id": "9J3C-QKukojv"
      },
      "source": [
        "##**7. EXPLICAR LAS REGLAS OBTENIDAS**"
      ]
    },
    {
      "cell_type": "markdown",
      "metadata": {
        "id": "69TfGAhDp_8g"
      },
      "source": [
        "###**LAS 4 REGLAS DE ASOCIACION**"
      ]
    },
    {
      "cell_type": "code",
      "metadata": {
        "colab": {
          "base_uri": "https://localhost:8080/",
          "height": 174
        },
        "id": "kCaWBxyS1lZO",
        "outputId": "282b0c8f-5f7d-4864-9d3b-3ac848cb34a7"
      },
      "source": [
        "#Nuestras 4 mejores reglas de asociacion\n",
        "reglas_association[0:4]"
      ],
      "execution_count": 18,
      "outputs": [
        {
          "output_type": "execute_result",
          "data": {
            "text/html": [
              "<div>\n",
              "<style scoped>\n",
              "    .dataframe tbody tr th:only-of-type {\n",
              "        vertical-align: middle;\n",
              "    }\n",
              "\n",
              "    .dataframe tbody tr th {\n",
              "        vertical-align: top;\n",
              "    }\n",
              "\n",
              "    .dataframe thead th {\n",
              "        text-align: right;\n",
              "    }\n",
              "</style>\n",
              "<table border=\"1\" class=\"dataframe\">\n",
              "  <thead>\n",
              "    <tr style=\"text-align: right;\">\n",
              "      <th></th>\n",
              "      <th>Reglas de asociacion</th>\n",
              "      <th>Support</th>\n",
              "      <th>Confidence</th>\n",
              "      <th>Lift</th>\n",
              "    </tr>\n",
              "  </thead>\n",
              "  <tbody>\n",
              "    <tr>\n",
              "      <th>0</th>\n",
              "      <td>HUMBLE.&lt;----&gt;DNA.</td>\n",
              "      <td>0.0190</td>\n",
              "      <td>0.822511</td>\n",
              "      <td>35.606529</td>\n",
              "    </tr>\n",
              "    <tr>\n",
              "      <th>1</th>\n",
              "      <td>HUMBLE.&lt;----&gt;Mask Off</td>\n",
              "      <td>0.0204</td>\n",
              "      <td>0.645570</td>\n",
              "      <td>20.429418</td>\n",
              "    </tr>\n",
              "    <tr>\n",
              "      <th>2</th>\n",
              "      <td>HUMBLE.&lt;----&gt;XO TOUR Llif3</td>\n",
              "      <td>0.0204</td>\n",
              "      <td>0.631579</td>\n",
              "      <td>19.553528</td>\n",
              "    </tr>\n",
              "    <tr>\n",
              "      <th>3</th>\n",
              "      <td>Bad and Boujee (feat. Lil Uzi Vert)&lt;----&gt;Bounc...</td>\n",
              "      <td>0.0169</td>\n",
              "      <td>0.569024</td>\n",
              "      <td>19.159043</td>\n",
              "    </tr>\n",
              "  </tbody>\n",
              "</table>\n",
              "</div>"
            ],
            "text/plain": [
              "                                Reglas de asociacion  ...       Lift\n",
              "0                                  HUMBLE.<---->DNA.  ...  35.606529\n",
              "1                              HUMBLE.<---->Mask Off  ...  20.429418\n",
              "2                         HUMBLE.<---->XO TOUR Llif3  ...  19.553528\n",
              "3  Bad and Boujee (feat. Lil Uzi Vert)<---->Bounc...  ...  19.159043\n",
              "\n",
              "[4 rows x 4 columns]"
            ]
          },
          "metadata": {},
          "execution_count": 18
        }
      ]
    },
    {
      "cell_type": "markdown",
      "metadata": {
        "id": "CD0brFDwqHOd"
      },
      "source": [
        "###**REGLA: 1**"
      ]
    },
    {
      "cell_type": "markdown",
      "metadata": {
        "id": "BiRj5_Mz4ocx"
      },
      "source": [
        "![image.png](data:image/png;base64,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)"
      ]
    },
    {
      "cell_type": "markdown",
      "metadata": {
        "id": "EFzCbzOs5dkL"
      },
      "source": [
        "Esta primera regla tiene alto soporte, alta confianza, si investigamos estas dos canciones tienen mismos compositores, tambien el artista que canta es Kendrik Lamara para ambas canciones.\n",
        "\n",
        "*   Los dos pertencen al mismo album llamado: **DMAN**\n",
        "*   Los compositores para **HUMBLE** son: Asheton Hogan / K. Duckworth / M. Williams Ii\n",
        "*   Los compositores para **DNA** son: K. Duckworth / M. Williams Ii\n",
        "\n",
        "\n",
        "En conclusion tenemos un aproximado el 80% de confianza\n",
        "\n",
        "\n"
      ]
    },
    {
      "cell_type": "markdown",
      "metadata": {
        "id": "WzXF2sbnqHwr"
      },
      "source": [
        "###**REGLA: 2**"
      ]
    },
    {
      "cell_type": "markdown",
      "metadata": {
        "id": "T04RMvDu4wA6"
      },
      "source": [
        "![image.png](data:image/png;base64,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)"
      ]
    },
    {
      "cell_type": "markdown",
      "metadata": {
        "id": "DwLTZbIC8eiq"
      },
      "source": [
        "La segunda regla es `HUMBLE.<---->Mask Off` tiene un lift de 20:429418.\n",
        "\n",
        ">  Artista \n",
        "*   El artista de **HUMBLE** es: Kendrick Lamar\n",
        "*   El artista de **Mask Off** es: Future\n",
        "\n",
        ">   Genero\n",
        "* El genero de **HUMBLE** es: Hip-hop/rap\n",
        "* El genero de **Mask Off** es: Hip-hop/rap\n",
        "\n",
        "La justificacion para esta regla de asociacion para estas dos canciones es que ambos artistas hacen remix, tambien comparten el mismo genero.\n",
        "\n",
        "Para esta regla tenemos 64% de confianza\n",
        "\n",
        "\n"
      ]
    },
    {
      "cell_type": "markdown",
      "metadata": {
        "id": "iQrmlYnf0amn"
      },
      "source": [
        "###**REGLA: 3**"
      ]
    },
    {
      "cell_type": "markdown",
      "metadata": {
        "id": "O5pzk2i05GNT"
      },
      "source": [
        "![image.png](data:image/png;base64,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)"
      ]
    },
    {
      "cell_type": "markdown",
      "metadata": {
        "id": "RlCjn665BA1c"
      },
      "source": [
        "La tercera regla con confianza de 63% es: `HUMBLE.<---->XO TOUR Llif3`\t\n",
        "\n",
        "\n",
        "> Artista: \n",
        "* El artista de HUMBLE es: Kendrick Lamar\n",
        "* El artista de XO TOUR Llif3 es: Lil Uzi Vert\n",
        "\n",
        "> Genero:\n",
        "* El genero de **HUMBLE** es: Hip-hop/rap\n",
        "* El genero de **XO TOUR Llif3** es: Hip-hop/rap y Emo rap\n",
        "\n",
        "> Album▶\n",
        "*   Para la musica **HUMBLE** es: DAMN\n",
        "*   Para la musica **XO TOUR Llif3** es: Luv Is Rage 2\n",
        "\n",
        "La justificacion para esta regla de asociacion es ambos pertenecen al mismo genero, ademas que estan en los top 10 que se transmitieron en el año 2017.\n",
        "\n"
      ]
    },
    {
      "cell_type": "markdown",
      "metadata": {
        "id": "oCWft0OlqQru"
      },
      "source": [
        "###**REGLA: 4**"
      ]
    },
    {
      "cell_type": "markdown",
      "metadata": {
        "id": "41VBOZUX5OY3"
      },
      "source": [
        "![image.png](data:image/png;base64,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)"
      ]
    },
    {
      "cell_type": "markdown",
      "metadata": {
        "id": "MHy6QqLoD2Lg"
      },
      "source": [
        "La cuarta regla regla con confianza de 57% es: `Bad and Boujee (feat. Lil Uzi Vert)<---->Bounc...\t`\t\n",
        "\n",
        "\n",
        "> Artista: \n",
        "* El artista de Bad and Boujee (feat. Lil Uzi Vert) es: Migos\n",
        "* El artista de Bounce back es: Big Sean\n",
        "\n",
        "> Genero:\n",
        "* El genero de **Bad and Boujee (feat. Lil Uzi Vert)** es: Hip-hop/rap\n",
        "* El genero de **Bounce back** es: Hip-hop/rap\n",
        "\n",
        "> Album▶\n",
        "*   Para la musica **Bad and Boujee (feat. Lil Uzi Vert)** es: Culture\n",
        "*   Para la musica **Bounce back** es: I decided\n",
        "\n",
        "La justificacion para esta regla de asociacion es ambos canciones pertenecen al mismo genero, William Singe que es un compositor integró y reutilizó  para crear una nueva cancion.\n",
        "\n",
        "**Migos - Bad And Boujee X Big Sean - Bounce Back (William Singe Cover/Remix):**\n",
        "https://soundcloud.com/vibezmusic-fc/migos-bad-and-boujee-x-big-sean-bounce-back-william-singe-coverremix\n",
        "\n",
        "Es la justificacion del 57% de confianza."
      ]
    }
  ]
}